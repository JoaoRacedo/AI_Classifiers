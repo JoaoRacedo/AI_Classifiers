{
 "cells": [
  {
   "cell_type": "code",
   "execution_count": 459,
   "metadata": {},
   "outputs": [],
   "source": [
    "import numpy as np\n",
    "from math import sqrt\n",
    "import pandas as pd\n",
    "from neupy import algorithms\n",
    "from sklearn import decomposition\n",
    "from scipy import stats\n",
    "from sklearn import datasets\n",
    "from skimage.measure import block_reduce\n",
    "import matplotlib.gridspec as gridspec\n",
    "from sklearn.metrics import classification_report, confusion_matrix\n",
    "import matplotlib.pyplot as plt\n",
    "%matplotlib inline"
   ]
  },
  {
   "cell_type": "code",
   "execution_count": 460,
   "metadata": {},
   "outputs": [],
   "source": [
    "zip_train = pd.read_csv(\"Zip_codes/zip_train.csv\", header=None, sep=\" \")\n",
    "zip_test = pd.read_csv(\"Zip_codes/zip_test.csv\", header=None, sep=\" \")\n",
    "zip_train = zip_train.drop([257], axis=1)"
   ]
  },
  {
   "cell_type": "code",
   "execution_count": 461,
   "metadata": {
    "scrolled": true
   },
   "outputs": [
    {
     "data": {
      "text/plain": [
       "\"\\ndigits = datasets.load_digits()\\ndata = digits.data\\nn_inputs = len(data[0])\\nsofm = algorithms.SOFM(\\n    n_inputs=n_inputs,\\n    n_outputs=10,\\n    \\n    # With large number of training samples it's safer\\n    # to use small step (learning rate)\\n    step=0.05,\\n    shuffle_data=True,         # Shuffles dataset before every training epoch.\\n    weight='sample_from_data',\\n\\n    learning_radius=0,\\n    \\n    # after 10 iteration learning radius would be 0\\n    #reduce_radius_after=1,\\n    verbose=True,             # Shows training progress in terminal\\n    show_epoch = 20           # Shows verbose each N\\n)\\nsofm.train(data, epochs=100)\\n\""
      ]
     },
     "execution_count": 461,
     "metadata": {},
     "output_type": "execute_result"
    }
   ],
   "source": [
    "\"\"\"\n",
    "digits = datasets.load_digits()\n",
    "data = digits.data\n",
    "n_inputs = len(data[0])\n",
    "sofm = algorithms.SOFM(\n",
    "    n_inputs=n_inputs,\n",
    "    n_outputs=10,\n",
    "    \n",
    "    # With large number of training samples it's safer\n",
    "    # to use small step (learning rate)\n",
    "    step=0.05,\n",
    "    shuffle_data=True,         # Shuffles dataset before every training epoch.\n",
    "    weight='sample_from_data',\n",
    "\n",
    "    learning_radius=0,\n",
    "    \n",
    "    # after 10 iteration learning radius would be 0\n",
    "    #reduce_radius_after=1,\n",
    "    verbose=True,             # Shows training progress in terminal\n",
    "    show_epoch = 20           # Shows verbose each N\n",
    ")\n",
    "sofm.train(data, epochs=100)\n",
    "\"\"\""
   ]
  },
  {
   "cell_type": "code",
   "execution_count": 462,
   "metadata": {
    "scrolled": true
   },
   "outputs": [
    {
     "data": {
      "text/html": [
       "<div>\n",
       "<style scoped>\n",
       "    .dataframe tbody tr th:only-of-type {\n",
       "        vertical-align: middle;\n",
       "    }\n",
       "\n",
       "    .dataframe tbody tr th {\n",
       "        vertical-align: top;\n",
       "    }\n",
       "\n",
       "    .dataframe thead th {\n",
       "        text-align: right;\n",
       "    }\n",
       "</style>\n",
       "<table border=\"1\" class=\"dataframe\">\n",
       "  <thead>\n",
       "    <tr style=\"text-align: right;\">\n",
       "      <th></th>\n",
       "      <th>0</th>\n",
       "      <th>1</th>\n",
       "      <th>2</th>\n",
       "      <th>3</th>\n",
       "      <th>4</th>\n",
       "      <th>5</th>\n",
       "      <th>6</th>\n",
       "      <th>7</th>\n",
       "      <th>8</th>\n",
       "      <th>9</th>\n",
       "      <th>...</th>\n",
       "      <th>247</th>\n",
       "      <th>248</th>\n",
       "      <th>249</th>\n",
       "      <th>250</th>\n",
       "      <th>251</th>\n",
       "      <th>252</th>\n",
       "      <th>253</th>\n",
       "      <th>254</th>\n",
       "      <th>255</th>\n",
       "      <th>256</th>\n",
       "    </tr>\n",
       "  </thead>\n",
       "  <tbody>\n",
       "    <tr>\n",
       "      <th>0</th>\n",
       "      <td>6.0</td>\n",
       "      <td>-1.000</td>\n",
       "      <td>-1.000</td>\n",
       "      <td>-1.000</td>\n",
       "      <td>-1.000</td>\n",
       "      <td>-1.000</td>\n",
       "      <td>-1.000</td>\n",
       "      <td>-1.000</td>\n",
       "      <td>-0.631</td>\n",
       "      <td>0.862</td>\n",
       "      <td>...</td>\n",
       "      <td>0.304</td>\n",
       "      <td>0.823</td>\n",
       "      <td>1.000</td>\n",
       "      <td>0.482</td>\n",
       "      <td>-0.474</td>\n",
       "      <td>-0.991</td>\n",
       "      <td>-1.000</td>\n",
       "      <td>-1.000</td>\n",
       "      <td>-1.000</td>\n",
       "      <td>-1.0</td>\n",
       "    </tr>\n",
       "    <tr>\n",
       "      <th>1</th>\n",
       "      <td>5.0</td>\n",
       "      <td>-1.000</td>\n",
       "      <td>-1.000</td>\n",
       "      <td>-1.000</td>\n",
       "      <td>-0.813</td>\n",
       "      <td>-0.671</td>\n",
       "      <td>-0.809</td>\n",
       "      <td>-0.887</td>\n",
       "      <td>-0.671</td>\n",
       "      <td>-0.853</td>\n",
       "      <td>...</td>\n",
       "      <td>-0.671</td>\n",
       "      <td>-0.671</td>\n",
       "      <td>-0.033</td>\n",
       "      <td>0.761</td>\n",
       "      <td>0.762</td>\n",
       "      <td>0.126</td>\n",
       "      <td>-0.095</td>\n",
       "      <td>-0.671</td>\n",
       "      <td>-0.828</td>\n",
       "      <td>-1.0</td>\n",
       "    </tr>\n",
       "    <tr>\n",
       "      <th>2</th>\n",
       "      <td>4.0</td>\n",
       "      <td>-1.000</td>\n",
       "      <td>-1.000</td>\n",
       "      <td>-1.000</td>\n",
       "      <td>-1.000</td>\n",
       "      <td>-1.000</td>\n",
       "      <td>-1.000</td>\n",
       "      <td>-1.000</td>\n",
       "      <td>-1.000</td>\n",
       "      <td>-1.000</td>\n",
       "      <td>...</td>\n",
       "      <td>-1.000</td>\n",
       "      <td>-1.000</td>\n",
       "      <td>-1.000</td>\n",
       "      <td>-0.109</td>\n",
       "      <td>1.000</td>\n",
       "      <td>-0.179</td>\n",
       "      <td>-1.000</td>\n",
       "      <td>-1.000</td>\n",
       "      <td>-1.000</td>\n",
       "      <td>-1.0</td>\n",
       "    </tr>\n",
       "    <tr>\n",
       "      <th>3</th>\n",
       "      <td>7.0</td>\n",
       "      <td>-1.000</td>\n",
       "      <td>-1.000</td>\n",
       "      <td>-1.000</td>\n",
       "      <td>-1.000</td>\n",
       "      <td>-1.000</td>\n",
       "      <td>-0.273</td>\n",
       "      <td>0.684</td>\n",
       "      <td>0.960</td>\n",
       "      <td>0.450</td>\n",
       "      <td>...</td>\n",
       "      <td>-0.318</td>\n",
       "      <td>1.000</td>\n",
       "      <td>0.536</td>\n",
       "      <td>-0.987</td>\n",
       "      <td>-1.000</td>\n",
       "      <td>-1.000</td>\n",
       "      <td>-1.000</td>\n",
       "      <td>-1.000</td>\n",
       "      <td>-1.000</td>\n",
       "      <td>-1.0</td>\n",
       "    </tr>\n",
       "    <tr>\n",
       "      <th>4</th>\n",
       "      <td>3.0</td>\n",
       "      <td>-1.000</td>\n",
       "      <td>-1.000</td>\n",
       "      <td>-1.000</td>\n",
       "      <td>-1.000</td>\n",
       "      <td>-1.000</td>\n",
       "      <td>-0.928</td>\n",
       "      <td>-0.204</td>\n",
       "      <td>0.751</td>\n",
       "      <td>0.466</td>\n",
       "      <td>...</td>\n",
       "      <td>0.466</td>\n",
       "      <td>0.639</td>\n",
       "      <td>1.000</td>\n",
       "      <td>1.000</td>\n",
       "      <td>0.791</td>\n",
       "      <td>0.439</td>\n",
       "      <td>-0.199</td>\n",
       "      <td>-0.883</td>\n",
       "      <td>-1.000</td>\n",
       "      <td>-1.0</td>\n",
       "    </tr>\n",
       "    <tr>\n",
       "      <th>5</th>\n",
       "      <td>6.0</td>\n",
       "      <td>-1.000</td>\n",
       "      <td>-1.000</td>\n",
       "      <td>-1.000</td>\n",
       "      <td>-1.000</td>\n",
       "      <td>-1.000</td>\n",
       "      <td>-0.397</td>\n",
       "      <td>0.983</td>\n",
       "      <td>-0.535</td>\n",
       "      <td>-1.000</td>\n",
       "      <td>...</td>\n",
       "      <td>0.803</td>\n",
       "      <td>0.015</td>\n",
       "      <td>-0.862</td>\n",
       "      <td>-0.871</td>\n",
       "      <td>-0.437</td>\n",
       "      <td>-1.000</td>\n",
       "      <td>-1.000</td>\n",
       "      <td>-1.000</td>\n",
       "      <td>-1.000</td>\n",
       "      <td>-1.0</td>\n",
       "    </tr>\n",
       "    <tr>\n",
       "      <th>6</th>\n",
       "      <td>3.0</td>\n",
       "      <td>-1.000</td>\n",
       "      <td>-1.000</td>\n",
       "      <td>-1.000</td>\n",
       "      <td>-0.830</td>\n",
       "      <td>0.442</td>\n",
       "      <td>1.000</td>\n",
       "      <td>1.000</td>\n",
       "      <td>0.479</td>\n",
       "      <td>-0.328</td>\n",
       "      <td>...</td>\n",
       "      <td>1.000</td>\n",
       "      <td>0.671</td>\n",
       "      <td>0.345</td>\n",
       "      <td>-0.507</td>\n",
       "      <td>-1.000</td>\n",
       "      <td>-1.000</td>\n",
       "      <td>-1.000</td>\n",
       "      <td>-1.000</td>\n",
       "      <td>-1.000</td>\n",
       "      <td>-1.0</td>\n",
       "    </tr>\n",
       "    <tr>\n",
       "      <th>7</th>\n",
       "      <td>1.0</td>\n",
       "      <td>-1.000</td>\n",
       "      <td>-1.000</td>\n",
       "      <td>-1.000</td>\n",
       "      <td>-1.000</td>\n",
       "      <td>-1.000</td>\n",
       "      <td>-1.000</td>\n",
       "      <td>-1.000</td>\n",
       "      <td>0.510</td>\n",
       "      <td>-0.213</td>\n",
       "      <td>...</td>\n",
       "      <td>-0.654</td>\n",
       "      <td>0.666</td>\n",
       "      <td>0.301</td>\n",
       "      <td>-1.000</td>\n",
       "      <td>-1.000</td>\n",
       "      <td>-1.000</td>\n",
       "      <td>-1.000</td>\n",
       "      <td>-1.000</td>\n",
       "      <td>-1.000</td>\n",
       "      <td>-1.0</td>\n",
       "    </tr>\n",
       "    <tr>\n",
       "      <th>8</th>\n",
       "      <td>0.0</td>\n",
       "      <td>-1.000</td>\n",
       "      <td>-1.000</td>\n",
       "      <td>-1.000</td>\n",
       "      <td>-1.000</td>\n",
       "      <td>-1.000</td>\n",
       "      <td>-0.454</td>\n",
       "      <td>0.879</td>\n",
       "      <td>-0.745</td>\n",
       "      <td>-1.000</td>\n",
       "      <td>...</td>\n",
       "      <td>1.000</td>\n",
       "      <td>1.000</td>\n",
       "      <td>1.000</td>\n",
       "      <td>0.506</td>\n",
       "      <td>-0.174</td>\n",
       "      <td>-0.811</td>\n",
       "      <td>-1.000</td>\n",
       "      <td>-1.000</td>\n",
       "      <td>-1.000</td>\n",
       "      <td>-1.0</td>\n",
       "    </tr>\n",
       "    <tr>\n",
       "      <th>9</th>\n",
       "      <td>1.0</td>\n",
       "      <td>-1.000</td>\n",
       "      <td>-1.000</td>\n",
       "      <td>-1.000</td>\n",
       "      <td>-1.000</td>\n",
       "      <td>-1.000</td>\n",
       "      <td>-1.000</td>\n",
       "      <td>-1.000</td>\n",
       "      <td>-0.909</td>\n",
       "      <td>0.801</td>\n",
       "      <td>...</td>\n",
       "      <td>-1.000</td>\n",
       "      <td>-0.332</td>\n",
       "      <td>0.735</td>\n",
       "      <td>0.380</td>\n",
       "      <td>-1.000</td>\n",
       "      <td>-1.000</td>\n",
       "      <td>-1.000</td>\n",
       "      <td>-1.000</td>\n",
       "      <td>-1.000</td>\n",
       "      <td>-1.0</td>\n",
       "    </tr>\n",
       "    <tr>\n",
       "      <th>10</th>\n",
       "      <td>7.0</td>\n",
       "      <td>-1.000</td>\n",
       "      <td>-1.000</td>\n",
       "      <td>-1.000</td>\n",
       "      <td>-1.000</td>\n",
       "      <td>-1.000</td>\n",
       "      <td>-0.596</td>\n",
       "      <td>0.912</td>\n",
       "      <td>1.000</td>\n",
       "      <td>0.290</td>\n",
       "      <td>...</td>\n",
       "      <td>-1.000</td>\n",
       "      <td>-0.795</td>\n",
       "      <td>0.663</td>\n",
       "      <td>-0.074</td>\n",
       "      <td>-1.000</td>\n",
       "      <td>-1.000</td>\n",
       "      <td>-1.000</td>\n",
       "      <td>-1.000</td>\n",
       "      <td>-1.000</td>\n",
       "      <td>-1.0</td>\n",
       "    </tr>\n",
       "    <tr>\n",
       "      <th>11</th>\n",
       "      <td>0.0</td>\n",
       "      <td>-1.000</td>\n",
       "      <td>-1.000</td>\n",
       "      <td>-1.000</td>\n",
       "      <td>-1.000</td>\n",
       "      <td>-1.000</td>\n",
       "      <td>-0.877</td>\n",
       "      <td>0.233</td>\n",
       "      <td>1.000</td>\n",
       "      <td>0.996</td>\n",
       "      <td>...</td>\n",
       "      <td>-0.041</td>\n",
       "      <td>0.947</td>\n",
       "      <td>0.988</td>\n",
       "      <td>0.009</td>\n",
       "      <td>-0.931</td>\n",
       "      <td>-1.000</td>\n",
       "      <td>-1.000</td>\n",
       "      <td>-1.000</td>\n",
       "      <td>-1.000</td>\n",
       "      <td>-1.0</td>\n",
       "    </tr>\n",
       "    <tr>\n",
       "      <th>12</th>\n",
       "      <td>1.0</td>\n",
       "      <td>-1.000</td>\n",
       "      <td>-1.000</td>\n",
       "      <td>-1.000</td>\n",
       "      <td>-1.000</td>\n",
       "      <td>-1.000</td>\n",
       "      <td>-1.000</td>\n",
       "      <td>-0.998</td>\n",
       "      <td>0.613</td>\n",
       "      <td>-0.385</td>\n",
       "      <td>...</td>\n",
       "      <td>-0.968</td>\n",
       "      <td>0.192</td>\n",
       "      <td>0.159</td>\n",
       "      <td>-1.000</td>\n",
       "      <td>-1.000</td>\n",
       "      <td>-1.000</td>\n",
       "      <td>-1.000</td>\n",
       "      <td>-1.000</td>\n",
       "      <td>-1.000</td>\n",
       "      <td>-1.0</td>\n",
       "    </tr>\n",
       "    <tr>\n",
       "      <th>13</th>\n",
       "      <td>1.0</td>\n",
       "      <td>-1.000</td>\n",
       "      <td>-1.000</td>\n",
       "      <td>-1.000</td>\n",
       "      <td>-1.000</td>\n",
       "      <td>-1.000</td>\n",
       "      <td>-1.000</td>\n",
       "      <td>-1.000</td>\n",
       "      <td>0.457</td>\n",
       "      <td>-0.219</td>\n",
       "      <td>...</td>\n",
       "      <td>-1.000</td>\n",
       "      <td>-0.086</td>\n",
       "      <td>0.804</td>\n",
       "      <td>-0.953</td>\n",
       "      <td>-1.000</td>\n",
       "      <td>-1.000</td>\n",
       "      <td>-1.000</td>\n",
       "      <td>-1.000</td>\n",
       "      <td>-1.000</td>\n",
       "      <td>-1.0</td>\n",
       "    </tr>\n",
       "    <tr>\n",
       "      <th>14</th>\n",
       "      <td>7.0</td>\n",
       "      <td>-1.000</td>\n",
       "      <td>-1.000</td>\n",
       "      <td>-1.000</td>\n",
       "      <td>-1.000</td>\n",
       "      <td>-1.000</td>\n",
       "      <td>-1.000</td>\n",
       "      <td>-1.000</td>\n",
       "      <td>-1.000</td>\n",
       "      <td>-0.632</td>\n",
       "      <td>...</td>\n",
       "      <td>-1.000</td>\n",
       "      <td>-0.967</td>\n",
       "      <td>0.866</td>\n",
       "      <td>-0.001</td>\n",
       "      <td>-1.000</td>\n",
       "      <td>-1.000</td>\n",
       "      <td>-1.000</td>\n",
       "      <td>-1.000</td>\n",
       "      <td>-1.000</td>\n",
       "      <td>-1.0</td>\n",
       "    </tr>\n",
       "    <tr>\n",
       "      <th>15</th>\n",
       "      <td>7.0</td>\n",
       "      <td>-1.000</td>\n",
       "      <td>-1.000</td>\n",
       "      <td>-1.000</td>\n",
       "      <td>-0.929</td>\n",
       "      <td>0.351</td>\n",
       "      <td>0.798</td>\n",
       "      <td>0.806</td>\n",
       "      <td>0.114</td>\n",
       "      <td>0.015</td>\n",
       "      <td>...</td>\n",
       "      <td>0.835</td>\n",
       "      <td>-0.086</td>\n",
       "      <td>-0.991</td>\n",
       "      <td>-1.000</td>\n",
       "      <td>-1.000</td>\n",
       "      <td>-1.000</td>\n",
       "      <td>-1.000</td>\n",
       "      <td>-1.000</td>\n",
       "      <td>-1.000</td>\n",
       "      <td>-1.0</td>\n",
       "    </tr>\n",
       "    <tr>\n",
       "      <th>16</th>\n",
       "      <td>4.0</td>\n",
       "      <td>-1.000</td>\n",
       "      <td>-1.000</td>\n",
       "      <td>-1.000</td>\n",
       "      <td>-1.000</td>\n",
       "      <td>-0.733</td>\n",
       "      <td>-0.916</td>\n",
       "      <td>-1.000</td>\n",
       "      <td>-1.000</td>\n",
       "      <td>-1.000</td>\n",
       "      <td>...</td>\n",
       "      <td>-0.849</td>\n",
       "      <td>0.745</td>\n",
       "      <td>0.936</td>\n",
       "      <td>-0.396</td>\n",
       "      <td>-1.000</td>\n",
       "      <td>-1.000</td>\n",
       "      <td>-1.000</td>\n",
       "      <td>-1.000</td>\n",
       "      <td>-1.000</td>\n",
       "      <td>-1.0</td>\n",
       "    </tr>\n",
       "    <tr>\n",
       "      <th>17</th>\n",
       "      <td>8.0</td>\n",
       "      <td>-1.000</td>\n",
       "      <td>-1.000</td>\n",
       "      <td>-1.000</td>\n",
       "      <td>-1.000</td>\n",
       "      <td>-1.000</td>\n",
       "      <td>-0.992</td>\n",
       "      <td>-0.385</td>\n",
       "      <td>-0.143</td>\n",
       "      <td>0.462</td>\n",
       "      <td>...</td>\n",
       "      <td>-0.288</td>\n",
       "      <td>0.286</td>\n",
       "      <td>0.988</td>\n",
       "      <td>0.988</td>\n",
       "      <td>0.267</td>\n",
       "      <td>-0.325</td>\n",
       "      <td>-0.962</td>\n",
       "      <td>-1.000</td>\n",
       "      <td>-1.000</td>\n",
       "      <td>-1.0</td>\n",
       "    </tr>\n",
       "    <tr>\n",
       "      <th>18</th>\n",
       "      <td>0.0</td>\n",
       "      <td>-1.000</td>\n",
       "      <td>-1.000</td>\n",
       "      <td>-1.000</td>\n",
       "      <td>-1.000</td>\n",
       "      <td>-1.000</td>\n",
       "      <td>-0.990</td>\n",
       "      <td>0.019</td>\n",
       "      <td>0.640</td>\n",
       "      <td>-0.553</td>\n",
       "      <td>...</td>\n",
       "      <td>0.363</td>\n",
       "      <td>1.000</td>\n",
       "      <td>0.820</td>\n",
       "      <td>-0.064</td>\n",
       "      <td>-0.969</td>\n",
       "      <td>-1.000</td>\n",
       "      <td>-1.000</td>\n",
       "      <td>-1.000</td>\n",
       "      <td>-1.000</td>\n",
       "      <td>-1.0</td>\n",
       "    </tr>\n",
       "    <tr>\n",
       "      <th>19</th>\n",
       "      <td>1.0</td>\n",
       "      <td>-1.000</td>\n",
       "      <td>-1.000</td>\n",
       "      <td>-1.000</td>\n",
       "      <td>-1.000</td>\n",
       "      <td>-1.000</td>\n",
       "      <td>-1.000</td>\n",
       "      <td>0.254</td>\n",
       "      <td>0.241</td>\n",
       "      <td>-0.929</td>\n",
       "      <td>...</td>\n",
       "      <td>-1.000</td>\n",
       "      <td>-0.399</td>\n",
       "      <td>0.077</td>\n",
       "      <td>-1.000</td>\n",
       "      <td>-1.000</td>\n",
       "      <td>-1.000</td>\n",
       "      <td>-1.000</td>\n",
       "      <td>-1.000</td>\n",
       "      <td>-1.000</td>\n",
       "      <td>-1.0</td>\n",
       "    </tr>\n",
       "    <tr>\n",
       "      <th>20</th>\n",
       "      <td>4.0</td>\n",
       "      <td>-1.000</td>\n",
       "      <td>-1.000</td>\n",
       "      <td>-1.000</td>\n",
       "      <td>-1.000</td>\n",
       "      <td>-1.000</td>\n",
       "      <td>-1.000</td>\n",
       "      <td>-1.000</td>\n",
       "      <td>-0.937</td>\n",
       "      <td>0.802</td>\n",
       "      <td>...</td>\n",
       "      <td>-0.923</td>\n",
       "      <td>0.589</td>\n",
       "      <td>0.741</td>\n",
       "      <td>-0.862</td>\n",
       "      <td>-1.000</td>\n",
       "      <td>-1.000</td>\n",
       "      <td>-1.000</td>\n",
       "      <td>-1.000</td>\n",
       "      <td>-1.000</td>\n",
       "      <td>-1.0</td>\n",
       "    </tr>\n",
       "    <tr>\n",
       "      <th>21</th>\n",
       "      <td>8.0</td>\n",
       "      <td>-1.000</td>\n",
       "      <td>-1.000</td>\n",
       "      <td>-1.000</td>\n",
       "      <td>-1.000</td>\n",
       "      <td>-1.000</td>\n",
       "      <td>-1.000</td>\n",
       "      <td>-0.988</td>\n",
       "      <td>0.646</td>\n",
       "      <td>0.757</td>\n",
       "      <td>...</td>\n",
       "      <td>-1.000</td>\n",
       "      <td>-0.544</td>\n",
       "      <td>0.321</td>\n",
       "      <td>1.000</td>\n",
       "      <td>-0.405</td>\n",
       "      <td>-1.000</td>\n",
       "      <td>-1.000</td>\n",
       "      <td>-1.000</td>\n",
       "      <td>-1.000</td>\n",
       "      <td>-1.0</td>\n",
       "    </tr>\n",
       "    <tr>\n",
       "      <th>22</th>\n",
       "      <td>7.0</td>\n",
       "      <td>-1.000</td>\n",
       "      <td>-1.000</td>\n",
       "      <td>-1.000</td>\n",
       "      <td>-1.000</td>\n",
       "      <td>-0.869</td>\n",
       "      <td>0.777</td>\n",
       "      <td>-0.007</td>\n",
       "      <td>-0.697</td>\n",
       "      <td>-1.000</td>\n",
       "      <td>...</td>\n",
       "      <td>-0.933</td>\n",
       "      <td>0.667</td>\n",
       "      <td>-0.315</td>\n",
       "      <td>-1.000</td>\n",
       "      <td>-1.000</td>\n",
       "      <td>-1.000</td>\n",
       "      <td>-1.000</td>\n",
       "      <td>-1.000</td>\n",
       "      <td>-1.000</td>\n",
       "      <td>-1.0</td>\n",
       "    </tr>\n",
       "    <tr>\n",
       "      <th>23</th>\n",
       "      <td>4.0</td>\n",
       "      <td>-1.000</td>\n",
       "      <td>-1.000</td>\n",
       "      <td>-1.000</td>\n",
       "      <td>-1.000</td>\n",
       "      <td>-1.000</td>\n",
       "      <td>-1.000</td>\n",
       "      <td>-1.000</td>\n",
       "      <td>-1.000</td>\n",
       "      <td>-1.000</td>\n",
       "      <td>...</td>\n",
       "      <td>-0.902</td>\n",
       "      <td>0.217</td>\n",
       "      <td>-0.929</td>\n",
       "      <td>-1.000</td>\n",
       "      <td>-1.000</td>\n",
       "      <td>-1.000</td>\n",
       "      <td>-1.000</td>\n",
       "      <td>-1.000</td>\n",
       "      <td>-1.000</td>\n",
       "      <td>-1.0</td>\n",
       "    </tr>\n",
       "    <tr>\n",
       "      <th>24</th>\n",
       "      <td>8.0</td>\n",
       "      <td>-1.000</td>\n",
       "      <td>-1.000</td>\n",
       "      <td>-1.000</td>\n",
       "      <td>-1.000</td>\n",
       "      <td>-0.145</td>\n",
       "      <td>0.515</td>\n",
       "      <td>0.515</td>\n",
       "      <td>0.485</td>\n",
       "      <td>-0.062</td>\n",
       "      <td>...</td>\n",
       "      <td>-0.978</td>\n",
       "      <td>-0.183</td>\n",
       "      <td>0.494</td>\n",
       "      <td>0.808</td>\n",
       "      <td>0.810</td>\n",
       "      <td>0.353</td>\n",
       "      <td>-0.914</td>\n",
       "      <td>-1.000</td>\n",
       "      <td>-1.000</td>\n",
       "      <td>-1.0</td>\n",
       "    </tr>\n",
       "    <tr>\n",
       "      <th>25</th>\n",
       "      <td>7.0</td>\n",
       "      <td>-1.000</td>\n",
       "      <td>-1.000</td>\n",
       "      <td>-1.000</td>\n",
       "      <td>-1.000</td>\n",
       "      <td>-0.846</td>\n",
       "      <td>-0.011</td>\n",
       "      <td>-0.920</td>\n",
       "      <td>-1.000</td>\n",
       "      <td>-1.000</td>\n",
       "      <td>...</td>\n",
       "      <td>-1.000</td>\n",
       "      <td>0.008</td>\n",
       "      <td>0.405</td>\n",
       "      <td>-1.000</td>\n",
       "      <td>-1.000</td>\n",
       "      <td>-1.000</td>\n",
       "      <td>-1.000</td>\n",
       "      <td>-1.000</td>\n",
       "      <td>-1.000</td>\n",
       "      <td>-1.0</td>\n",
       "    </tr>\n",
       "    <tr>\n",
       "      <th>26</th>\n",
       "      <td>3.0</td>\n",
       "      <td>-1.000</td>\n",
       "      <td>-1.000</td>\n",
       "      <td>-1.000</td>\n",
       "      <td>-1.000</td>\n",
       "      <td>-1.000</td>\n",
       "      <td>-0.104</td>\n",
       "      <td>0.549</td>\n",
       "      <td>0.579</td>\n",
       "      <td>0.579</td>\n",
       "      <td>...</td>\n",
       "      <td>0.388</td>\n",
       "      <td>0.579</td>\n",
       "      <td>0.811</td>\n",
       "      <td>1.000</td>\n",
       "      <td>1.000</td>\n",
       "      <td>0.715</td>\n",
       "      <td>0.107</td>\n",
       "      <td>-0.526</td>\n",
       "      <td>-1.000</td>\n",
       "      <td>-1.0</td>\n",
       "    </tr>\n",
       "    <tr>\n",
       "      <th>27</th>\n",
       "      <td>7.0</td>\n",
       "      <td>-1.000</td>\n",
       "      <td>-1.000</td>\n",
       "      <td>-1.000</td>\n",
       "      <td>-1.000</td>\n",
       "      <td>-1.000</td>\n",
       "      <td>-1.000</td>\n",
       "      <td>-1.000</td>\n",
       "      <td>-1.000</td>\n",
       "      <td>-0.959</td>\n",
       "      <td>...</td>\n",
       "      <td>-1.000</td>\n",
       "      <td>-0.544</td>\n",
       "      <td>0.284</td>\n",
       "      <td>-1.000</td>\n",
       "      <td>-1.000</td>\n",
       "      <td>-1.000</td>\n",
       "      <td>-1.000</td>\n",
       "      <td>-1.000</td>\n",
       "      <td>-1.000</td>\n",
       "      <td>-1.0</td>\n",
       "    </tr>\n",
       "    <tr>\n",
       "      <th>28</th>\n",
       "      <td>4.0</td>\n",
       "      <td>-1.000</td>\n",
       "      <td>-1.000</td>\n",
       "      <td>-1.000</td>\n",
       "      <td>-1.000</td>\n",
       "      <td>-1.000</td>\n",
       "      <td>-1.000</td>\n",
       "      <td>-1.000</td>\n",
       "      <td>-1.000</td>\n",
       "      <td>-1.000</td>\n",
       "      <td>...</td>\n",
       "      <td>-1.000</td>\n",
       "      <td>-1.000</td>\n",
       "      <td>-0.125</td>\n",
       "      <td>0.893</td>\n",
       "      <td>-0.563</td>\n",
       "      <td>-1.000</td>\n",
       "      <td>-1.000</td>\n",
       "      <td>-1.000</td>\n",
       "      <td>-1.000</td>\n",
       "      <td>-1.0</td>\n",
       "    </tr>\n",
       "    <tr>\n",
       "      <th>29</th>\n",
       "      <td>1.0</td>\n",
       "      <td>-1.000</td>\n",
       "      <td>-1.000</td>\n",
       "      <td>-1.000</td>\n",
       "      <td>-1.000</td>\n",
       "      <td>-1.000</td>\n",
       "      <td>-1.000</td>\n",
       "      <td>-1.000</td>\n",
       "      <td>-0.582</td>\n",
       "      <td>0.849</td>\n",
       "      <td>...</td>\n",
       "      <td>-0.966</td>\n",
       "      <td>0.624</td>\n",
       "      <td>0.706</td>\n",
       "      <td>-0.819</td>\n",
       "      <td>-1.000</td>\n",
       "      <td>-1.000</td>\n",
       "      <td>-1.000</td>\n",
       "      <td>-1.000</td>\n",
       "      <td>-1.000</td>\n",
       "      <td>-1.0</td>\n",
       "    </tr>\n",
       "    <tr>\n",
       "      <th>...</th>\n",
       "      <td>...</td>\n",
       "      <td>...</td>\n",
       "      <td>...</td>\n",
       "      <td>...</td>\n",
       "      <td>...</td>\n",
       "      <td>...</td>\n",
       "      <td>...</td>\n",
       "      <td>...</td>\n",
       "      <td>...</td>\n",
       "      <td>...</td>\n",
       "      <td>...</td>\n",
       "      <td>...</td>\n",
       "      <td>...</td>\n",
       "      <td>...</td>\n",
       "      <td>...</td>\n",
       "      <td>...</td>\n",
       "      <td>...</td>\n",
       "      <td>...</td>\n",
       "      <td>...</td>\n",
       "      <td>...</td>\n",
       "      <td>...</td>\n",
       "    </tr>\n",
       "    <tr>\n",
       "      <th>7261</th>\n",
       "      <td>5.0</td>\n",
       "      <td>-1.000</td>\n",
       "      <td>-1.000</td>\n",
       "      <td>-1.000</td>\n",
       "      <td>-1.000</td>\n",
       "      <td>-1.000</td>\n",
       "      <td>-1.000</td>\n",
       "      <td>-1.000</td>\n",
       "      <td>-0.700</td>\n",
       "      <td>-0.315</td>\n",
       "      <td>...</td>\n",
       "      <td>0.754</td>\n",
       "      <td>0.561</td>\n",
       "      <td>0.215</td>\n",
       "      <td>-0.511</td>\n",
       "      <td>-1.000</td>\n",
       "      <td>-1.000</td>\n",
       "      <td>-1.000</td>\n",
       "      <td>-1.000</td>\n",
       "      <td>-1.000</td>\n",
       "      <td>-1.0</td>\n",
       "    </tr>\n",
       "    <tr>\n",
       "      <th>7262</th>\n",
       "      <td>0.0</td>\n",
       "      <td>-1.000</td>\n",
       "      <td>-1.000</td>\n",
       "      <td>-1.000</td>\n",
       "      <td>-1.000</td>\n",
       "      <td>-1.000</td>\n",
       "      <td>-0.987</td>\n",
       "      <td>-0.769</td>\n",
       "      <td>-0.260</td>\n",
       "      <td>-0.091</td>\n",
       "      <td>...</td>\n",
       "      <td>-0.091</td>\n",
       "      <td>-0.091</td>\n",
       "      <td>-0.091</td>\n",
       "      <td>-0.244</td>\n",
       "      <td>-0.769</td>\n",
       "      <td>-0.769</td>\n",
       "      <td>-0.978</td>\n",
       "      <td>-1.000</td>\n",
       "      <td>-1.000</td>\n",
       "      <td>-1.0</td>\n",
       "    </tr>\n",
       "    <tr>\n",
       "      <th>7263</th>\n",
       "      <td>3.0</td>\n",
       "      <td>-1.000</td>\n",
       "      <td>-1.000</td>\n",
       "      <td>-1.000</td>\n",
       "      <td>-0.504</td>\n",
       "      <td>-0.000</td>\n",
       "      <td>-0.000</td>\n",
       "      <td>-0.000</td>\n",
       "      <td>-0.000</td>\n",
       "      <td>0.480</td>\n",
       "      <td>...</td>\n",
       "      <td>0.393</td>\n",
       "      <td>0.500</td>\n",
       "      <td>0.863</td>\n",
       "      <td>0.762</td>\n",
       "      <td>0.184</td>\n",
       "      <td>-0.703</td>\n",
       "      <td>-1.000</td>\n",
       "      <td>-1.000</td>\n",
       "      <td>-1.000</td>\n",
       "      <td>-1.0</td>\n",
       "    </tr>\n",
       "    <tr>\n",
       "      <th>7264</th>\n",
       "      <td>3.0</td>\n",
       "      <td>-1.000</td>\n",
       "      <td>-1.000</td>\n",
       "      <td>-1.000</td>\n",
       "      <td>0.401</td>\n",
       "      <td>1.000</td>\n",
       "      <td>0.706</td>\n",
       "      <td>0.466</td>\n",
       "      <td>0.466</td>\n",
       "      <td>0.466</td>\n",
       "      <td>...</td>\n",
       "      <td>0.101</td>\n",
       "      <td>0.466</td>\n",
       "      <td>0.976</td>\n",
       "      <td>0.952</td>\n",
       "      <td>0.466</td>\n",
       "      <td>0.187</td>\n",
       "      <td>-0.799</td>\n",
       "      <td>-1.000</td>\n",
       "      <td>-1.000</td>\n",
       "      <td>-1.0</td>\n",
       "    </tr>\n",
       "    <tr>\n",
       "      <th>7265</th>\n",
       "      <td>6.0</td>\n",
       "      <td>-1.000</td>\n",
       "      <td>-1.000</td>\n",
       "      <td>-1.000</td>\n",
       "      <td>-1.000</td>\n",
       "      <td>-1.000</td>\n",
       "      <td>-1.000</td>\n",
       "      <td>-1.000</td>\n",
       "      <td>-1.000</td>\n",
       "      <td>-0.885</td>\n",
       "      <td>...</td>\n",
       "      <td>-0.970</td>\n",
       "      <td>-0.084</td>\n",
       "      <td>0.692</td>\n",
       "      <td>1.000</td>\n",
       "      <td>0.991</td>\n",
       "      <td>0.144</td>\n",
       "      <td>-0.870</td>\n",
       "      <td>-1.000</td>\n",
       "      <td>-1.000</td>\n",
       "      <td>-1.0</td>\n",
       "    </tr>\n",
       "    <tr>\n",
       "      <th>7266</th>\n",
       "      <td>5.0</td>\n",
       "      <td>-1.000</td>\n",
       "      <td>-1.000</td>\n",
       "      <td>-1.000</td>\n",
       "      <td>-1.000</td>\n",
       "      <td>-1.000</td>\n",
       "      <td>-1.000</td>\n",
       "      <td>-1.000</td>\n",
       "      <td>-1.000</td>\n",
       "      <td>-1.000</td>\n",
       "      <td>...</td>\n",
       "      <td>-1.000</td>\n",
       "      <td>-1.000</td>\n",
       "      <td>-1.000</td>\n",
       "      <td>-1.000</td>\n",
       "      <td>-1.000</td>\n",
       "      <td>-1.000</td>\n",
       "      <td>-1.000</td>\n",
       "      <td>-1.000</td>\n",
       "      <td>-1.000</td>\n",
       "      <td>-1.0</td>\n",
       "    </tr>\n",
       "    <tr>\n",
       "      <th>7267</th>\n",
       "      <td>0.0</td>\n",
       "      <td>-1.000</td>\n",
       "      <td>-1.000</td>\n",
       "      <td>-1.000</td>\n",
       "      <td>-1.000</td>\n",
       "      <td>-1.000</td>\n",
       "      <td>-1.000</td>\n",
       "      <td>-1.000</td>\n",
       "      <td>-1.000</td>\n",
       "      <td>-1.000</td>\n",
       "      <td>...</td>\n",
       "      <td>-1.000</td>\n",
       "      <td>-1.000</td>\n",
       "      <td>-1.000</td>\n",
       "      <td>-1.000</td>\n",
       "      <td>-1.000</td>\n",
       "      <td>-1.000</td>\n",
       "      <td>-1.000</td>\n",
       "      <td>-1.000</td>\n",
       "      <td>-1.000</td>\n",
       "      <td>-1.0</td>\n",
       "    </tr>\n",
       "    <tr>\n",
       "      <th>7268</th>\n",
       "      <td>3.0</td>\n",
       "      <td>-1.000</td>\n",
       "      <td>-1.000</td>\n",
       "      <td>-1.000</td>\n",
       "      <td>-1.000</td>\n",
       "      <td>-1.000</td>\n",
       "      <td>-1.000</td>\n",
       "      <td>-1.000</td>\n",
       "      <td>-1.000</td>\n",
       "      <td>-1.000</td>\n",
       "      <td>...</td>\n",
       "      <td>-1.000</td>\n",
       "      <td>-1.000</td>\n",
       "      <td>-1.000</td>\n",
       "      <td>-1.000</td>\n",
       "      <td>-1.000</td>\n",
       "      <td>-1.000</td>\n",
       "      <td>-1.000</td>\n",
       "      <td>-1.000</td>\n",
       "      <td>-1.000</td>\n",
       "      <td>-1.0</td>\n",
       "    </tr>\n",
       "    <tr>\n",
       "      <th>7269</th>\n",
       "      <td>5.0</td>\n",
       "      <td>-1.000</td>\n",
       "      <td>-1.000</td>\n",
       "      <td>-1.000</td>\n",
       "      <td>-1.000</td>\n",
       "      <td>-1.000</td>\n",
       "      <td>-1.000</td>\n",
       "      <td>-1.000</td>\n",
       "      <td>-1.000</td>\n",
       "      <td>-1.000</td>\n",
       "      <td>...</td>\n",
       "      <td>-1.000</td>\n",
       "      <td>-1.000</td>\n",
       "      <td>-1.000</td>\n",
       "      <td>-1.000</td>\n",
       "      <td>-1.000</td>\n",
       "      <td>-1.000</td>\n",
       "      <td>-1.000</td>\n",
       "      <td>-1.000</td>\n",
       "      <td>-1.000</td>\n",
       "      <td>-1.0</td>\n",
       "    </tr>\n",
       "    <tr>\n",
       "      <th>7270</th>\n",
       "      <td>0.0</td>\n",
       "      <td>-1.000</td>\n",
       "      <td>-1.000</td>\n",
       "      <td>-1.000</td>\n",
       "      <td>-1.000</td>\n",
       "      <td>-1.000</td>\n",
       "      <td>-1.000</td>\n",
       "      <td>-1.000</td>\n",
       "      <td>-1.000</td>\n",
       "      <td>-1.000</td>\n",
       "      <td>...</td>\n",
       "      <td>-1.000</td>\n",
       "      <td>-1.000</td>\n",
       "      <td>-1.000</td>\n",
       "      <td>-1.000</td>\n",
       "      <td>-1.000</td>\n",
       "      <td>-1.000</td>\n",
       "      <td>-1.000</td>\n",
       "      <td>-1.000</td>\n",
       "      <td>-1.000</td>\n",
       "      <td>-1.0</td>\n",
       "    </tr>\n",
       "    <tr>\n",
       "      <th>7271</th>\n",
       "      <td>5.0</td>\n",
       "      <td>-1.000</td>\n",
       "      <td>-1.000</td>\n",
       "      <td>-1.000</td>\n",
       "      <td>-1.000</td>\n",
       "      <td>-1.000</td>\n",
       "      <td>-1.000</td>\n",
       "      <td>-1.000</td>\n",
       "      <td>-0.937</td>\n",
       "      <td>-0.333</td>\n",
       "      <td>...</td>\n",
       "      <td>0.820</td>\n",
       "      <td>0.549</td>\n",
       "      <td>0.154</td>\n",
       "      <td>-0.763</td>\n",
       "      <td>-1.000</td>\n",
       "      <td>-1.000</td>\n",
       "      <td>-1.000</td>\n",
       "      <td>-1.000</td>\n",
       "      <td>-1.000</td>\n",
       "      <td>-1.0</td>\n",
       "    </tr>\n",
       "    <tr>\n",
       "      <th>7272</th>\n",
       "      <td>0.0</td>\n",
       "      <td>-1.000</td>\n",
       "      <td>-1.000</td>\n",
       "      <td>-1.000</td>\n",
       "      <td>-0.954</td>\n",
       "      <td>0.325</td>\n",
       "      <td>0.520</td>\n",
       "      <td>0.520</td>\n",
       "      <td>0.275</td>\n",
       "      <td>-0.554</td>\n",
       "      <td>...</td>\n",
       "      <td>0.520</td>\n",
       "      <td>0.500</td>\n",
       "      <td>-0.153</td>\n",
       "      <td>-0.705</td>\n",
       "      <td>-1.000</td>\n",
       "      <td>-1.000</td>\n",
       "      <td>-1.000</td>\n",
       "      <td>-1.000</td>\n",
       "      <td>-1.000</td>\n",
       "      <td>-1.0</td>\n",
       "    </tr>\n",
       "    <tr>\n",
       "      <th>7273</th>\n",
       "      <td>3.0</td>\n",
       "      <td>-1.000</td>\n",
       "      <td>-1.000</td>\n",
       "      <td>-1.000</td>\n",
       "      <td>-1.000</td>\n",
       "      <td>-0.852</td>\n",
       "      <td>-0.487</td>\n",
       "      <td>0.183</td>\n",
       "      <td>0.527</td>\n",
       "      <td>1.000</td>\n",
       "      <td>...</td>\n",
       "      <td>1.000</td>\n",
       "      <td>0.883</td>\n",
       "      <td>0.428</td>\n",
       "      <td>-0.032</td>\n",
       "      <td>-0.581</td>\n",
       "      <td>-1.000</td>\n",
       "      <td>-1.000</td>\n",
       "      <td>-1.000</td>\n",
       "      <td>-1.000</td>\n",
       "      <td>-1.0</td>\n",
       "    </tr>\n",
       "    <tr>\n",
       "      <th>7274</th>\n",
       "      <td>0.0</td>\n",
       "      <td>-1.000</td>\n",
       "      <td>-1.000</td>\n",
       "      <td>-1.000</td>\n",
       "      <td>-0.935</td>\n",
       "      <td>0.154</td>\n",
       "      <td>1.000</td>\n",
       "      <td>1.000</td>\n",
       "      <td>1.000</td>\n",
       "      <td>1.000</td>\n",
       "      <td>...</td>\n",
       "      <td>1.000</td>\n",
       "      <td>1.000</td>\n",
       "      <td>1.000</td>\n",
       "      <td>0.586</td>\n",
       "      <td>0.174</td>\n",
       "      <td>-0.885</td>\n",
       "      <td>-1.000</td>\n",
       "      <td>-1.000</td>\n",
       "      <td>-1.000</td>\n",
       "      <td>-1.0</td>\n",
       "    </tr>\n",
       "    <tr>\n",
       "      <th>7275</th>\n",
       "      <td>9.0</td>\n",
       "      <td>-1.000</td>\n",
       "      <td>-1.000</td>\n",
       "      <td>-1.000</td>\n",
       "      <td>-0.982</td>\n",
       "      <td>-0.643</td>\n",
       "      <td>-0.089</td>\n",
       "      <td>0.515</td>\n",
       "      <td>0.834</td>\n",
       "      <td>1.000</td>\n",
       "      <td>...</td>\n",
       "      <td>0.856</td>\n",
       "      <td>-0.400</td>\n",
       "      <td>-1.000</td>\n",
       "      <td>-1.000</td>\n",
       "      <td>-1.000</td>\n",
       "      <td>-1.000</td>\n",
       "      <td>-1.000</td>\n",
       "      <td>-1.000</td>\n",
       "      <td>-1.000</td>\n",
       "      <td>-1.0</td>\n",
       "    </tr>\n",
       "    <tr>\n",
       "      <th>7276</th>\n",
       "      <td>3.0</td>\n",
       "      <td>-1.000</td>\n",
       "      <td>-1.000</td>\n",
       "      <td>-1.000</td>\n",
       "      <td>-1.000</td>\n",
       "      <td>-1.000</td>\n",
       "      <td>-1.000</td>\n",
       "      <td>-0.856</td>\n",
       "      <td>-0.602</td>\n",
       "      <td>-0.602</td>\n",
       "      <td>...</td>\n",
       "      <td>-0.602</td>\n",
       "      <td>-0.602</td>\n",
       "      <td>-0.965</td>\n",
       "      <td>-1.000</td>\n",
       "      <td>-1.000</td>\n",
       "      <td>-1.000</td>\n",
       "      <td>-1.000</td>\n",
       "      <td>-1.000</td>\n",
       "      <td>-1.000</td>\n",
       "      <td>-1.0</td>\n",
       "    </tr>\n",
       "    <tr>\n",
       "      <th>7277</th>\n",
       "      <td>3.0</td>\n",
       "      <td>-0.929</td>\n",
       "      <td>-0.012</td>\n",
       "      <td>0.407</td>\n",
       "      <td>0.407</td>\n",
       "      <td>0.776</td>\n",
       "      <td>1.000</td>\n",
       "      <td>1.000</td>\n",
       "      <td>1.000</td>\n",
       "      <td>0.543</td>\n",
       "      <td>...</td>\n",
       "      <td>0.407</td>\n",
       "      <td>-0.163</td>\n",
       "      <td>-0.778</td>\n",
       "      <td>-0.982</td>\n",
       "      <td>-1.000</td>\n",
       "      <td>-1.000</td>\n",
       "      <td>-1.000</td>\n",
       "      <td>-1.000</td>\n",
       "      <td>-1.000</td>\n",
       "      <td>-1.0</td>\n",
       "    </tr>\n",
       "    <tr>\n",
       "      <th>7278</th>\n",
       "      <td>3.0</td>\n",
       "      <td>-1.000</td>\n",
       "      <td>-1.000</td>\n",
       "      <td>-0.617</td>\n",
       "      <td>0.970</td>\n",
       "      <td>1.000</td>\n",
       "      <td>1.000</td>\n",
       "      <td>1.000</td>\n",
       "      <td>0.829</td>\n",
       "      <td>0.832</td>\n",
       "      <td>...</td>\n",
       "      <td>-0.256</td>\n",
       "      <td>0.183</td>\n",
       "      <td>0.791</td>\n",
       "      <td>1.000</td>\n",
       "      <td>1.000</td>\n",
       "      <td>0.743</td>\n",
       "      <td>0.209</td>\n",
       "      <td>-0.750</td>\n",
       "      <td>-1.000</td>\n",
       "      <td>-1.0</td>\n",
       "    </tr>\n",
       "    <tr>\n",
       "      <th>7279</th>\n",
       "      <td>0.0</td>\n",
       "      <td>-1.000</td>\n",
       "      <td>-1.000</td>\n",
       "      <td>-1.000</td>\n",
       "      <td>-1.000</td>\n",
       "      <td>-1.000</td>\n",
       "      <td>-0.986</td>\n",
       "      <td>0.376</td>\n",
       "      <td>0.438</td>\n",
       "      <td>-0.732</td>\n",
       "      <td>...</td>\n",
       "      <td>-0.105</td>\n",
       "      <td>0.812</td>\n",
       "      <td>1.000</td>\n",
       "      <td>0.906</td>\n",
       "      <td>-0.046</td>\n",
       "      <td>-0.982</td>\n",
       "      <td>-1.000</td>\n",
       "      <td>-1.000</td>\n",
       "      <td>-1.000</td>\n",
       "      <td>-1.0</td>\n",
       "    </tr>\n",
       "    <tr>\n",
       "      <th>7280</th>\n",
       "      <td>3.0</td>\n",
       "      <td>-1.000</td>\n",
       "      <td>-1.000</td>\n",
       "      <td>-1.000</td>\n",
       "      <td>-1.000</td>\n",
       "      <td>-1.000</td>\n",
       "      <td>-0.741</td>\n",
       "      <td>-0.561</td>\n",
       "      <td>-0.561</td>\n",
       "      <td>-0.429</td>\n",
       "      <td>...</td>\n",
       "      <td>0.728</td>\n",
       "      <td>0.462</td>\n",
       "      <td>-0.531</td>\n",
       "      <td>0.218</td>\n",
       "      <td>-0.230</td>\n",
       "      <td>-1.000</td>\n",
       "      <td>-1.000</td>\n",
       "      <td>-1.000</td>\n",
       "      <td>-1.000</td>\n",
       "      <td>-1.0</td>\n",
       "    </tr>\n",
       "    <tr>\n",
       "      <th>7281</th>\n",
       "      <td>3.0</td>\n",
       "      <td>-0.698</td>\n",
       "      <td>0.120</td>\n",
       "      <td>0.360</td>\n",
       "      <td>0.360</td>\n",
       "      <td>0.549</td>\n",
       "      <td>0.785</td>\n",
       "      <td>0.767</td>\n",
       "      <td>0.362</td>\n",
       "      <td>0.357</td>\n",
       "      <td>...</td>\n",
       "      <td>-1.000</td>\n",
       "      <td>-1.000</td>\n",
       "      <td>-1.000</td>\n",
       "      <td>-1.000</td>\n",
       "      <td>-1.000</td>\n",
       "      <td>-1.000</td>\n",
       "      <td>-1.000</td>\n",
       "      <td>-1.000</td>\n",
       "      <td>-1.000</td>\n",
       "      <td>-1.0</td>\n",
       "    </tr>\n",
       "    <tr>\n",
       "      <th>7282</th>\n",
       "      <td>3.0</td>\n",
       "      <td>-1.000</td>\n",
       "      <td>-0.882</td>\n",
       "      <td>-0.334</td>\n",
       "      <td>0.267</td>\n",
       "      <td>0.333</td>\n",
       "      <td>0.749</td>\n",
       "      <td>1.000</td>\n",
       "      <td>1.000</td>\n",
       "      <td>1.000</td>\n",
       "      <td>...</td>\n",
       "      <td>0.968</td>\n",
       "      <td>1.000</td>\n",
       "      <td>1.000</td>\n",
       "      <td>1.000</td>\n",
       "      <td>0.809</td>\n",
       "      <td>0.325</td>\n",
       "      <td>-0.820</td>\n",
       "      <td>-1.000</td>\n",
       "      <td>-1.000</td>\n",
       "      <td>-1.0</td>\n",
       "    </tr>\n",
       "    <tr>\n",
       "      <th>7283</th>\n",
       "      <td>3.0</td>\n",
       "      <td>-0.985</td>\n",
       "      <td>-0.048</td>\n",
       "      <td>0.226</td>\n",
       "      <td>0.226</td>\n",
       "      <td>0.226</td>\n",
       "      <td>-0.355</td>\n",
       "      <td>-0.807</td>\n",
       "      <td>-1.000</td>\n",
       "      <td>-0.726</td>\n",
       "      <td>...</td>\n",
       "      <td>-0.307</td>\n",
       "      <td>-0.555</td>\n",
       "      <td>-0.555</td>\n",
       "      <td>-0.555</td>\n",
       "      <td>-0.556</td>\n",
       "      <td>-1.000</td>\n",
       "      <td>-1.000</td>\n",
       "      <td>-1.000</td>\n",
       "      <td>-1.000</td>\n",
       "      <td>-1.0</td>\n",
       "    </tr>\n",
       "    <tr>\n",
       "      <th>7284</th>\n",
       "      <td>1.0</td>\n",
       "      <td>-1.000</td>\n",
       "      <td>-1.000</td>\n",
       "      <td>-1.000</td>\n",
       "      <td>-1.000</td>\n",
       "      <td>-1.000</td>\n",
       "      <td>-1.000</td>\n",
       "      <td>-1.000</td>\n",
       "      <td>-0.204</td>\n",
       "      <td>1.000</td>\n",
       "      <td>...</td>\n",
       "      <td>-1.000</td>\n",
       "      <td>0.028</td>\n",
       "      <td>1.000</td>\n",
       "      <td>0.274</td>\n",
       "      <td>-1.000</td>\n",
       "      <td>-1.000</td>\n",
       "      <td>-1.000</td>\n",
       "      <td>-1.000</td>\n",
       "      <td>-1.000</td>\n",
       "      <td>-1.0</td>\n",
       "    </tr>\n",
       "    <tr>\n",
       "      <th>7285</th>\n",
       "      <td>1.0</td>\n",
       "      <td>-1.000</td>\n",
       "      <td>-1.000</td>\n",
       "      <td>-1.000</td>\n",
       "      <td>-1.000</td>\n",
       "      <td>-1.000</td>\n",
       "      <td>-1.000</td>\n",
       "      <td>-0.744</td>\n",
       "      <td>0.788</td>\n",
       "      <td>0.113</td>\n",
       "      <td>...</td>\n",
       "      <td>-0.762</td>\n",
       "      <td>0.778</td>\n",
       "      <td>0.786</td>\n",
       "      <td>-0.748</td>\n",
       "      <td>-1.000</td>\n",
       "      <td>-1.000</td>\n",
       "      <td>-1.000</td>\n",
       "      <td>-1.000</td>\n",
       "      <td>-1.000</td>\n",
       "      <td>-1.0</td>\n",
       "    </tr>\n",
       "    <tr>\n",
       "      <th>7286</th>\n",
       "      <td>3.0</td>\n",
       "      <td>-1.000</td>\n",
       "      <td>-1.000</td>\n",
       "      <td>-1.000</td>\n",
       "      <td>-0.988</td>\n",
       "      <td>-0.527</td>\n",
       "      <td>-0.208</td>\n",
       "      <td>0.620</td>\n",
       "      <td>1.000</td>\n",
       "      <td>0.467</td>\n",
       "      <td>...</td>\n",
       "      <td>-0.116</td>\n",
       "      <td>0.899</td>\n",
       "      <td>0.416</td>\n",
       "      <td>-0.510</td>\n",
       "      <td>-1.000</td>\n",
       "      <td>-1.000</td>\n",
       "      <td>-1.000</td>\n",
       "      <td>-1.000</td>\n",
       "      <td>-1.000</td>\n",
       "      <td>-1.0</td>\n",
       "    </tr>\n",
       "    <tr>\n",
       "      <th>7287</th>\n",
       "      <td>3.0</td>\n",
       "      <td>-1.000</td>\n",
       "      <td>-1.000</td>\n",
       "      <td>-1.000</td>\n",
       "      <td>-0.990</td>\n",
       "      <td>0.708</td>\n",
       "      <td>0.557</td>\n",
       "      <td>0.347</td>\n",
       "      <td>-0.107</td>\n",
       "      <td>-0.758</td>\n",
       "      <td>...</td>\n",
       "      <td>0.697</td>\n",
       "      <td>0.636</td>\n",
       "      <td>0.167</td>\n",
       "      <td>-0.968</td>\n",
       "      <td>-1.000</td>\n",
       "      <td>-1.000</td>\n",
       "      <td>-1.000</td>\n",
       "      <td>-1.000</td>\n",
       "      <td>-1.000</td>\n",
       "      <td>-1.0</td>\n",
       "    </tr>\n",
       "    <tr>\n",
       "      <th>7288</th>\n",
       "      <td>3.0</td>\n",
       "      <td>-1.000</td>\n",
       "      <td>-1.000</td>\n",
       "      <td>-1.000</td>\n",
       "      <td>-0.783</td>\n",
       "      <td>-0.984</td>\n",
       "      <td>-0.827</td>\n",
       "      <td>0.068</td>\n",
       "      <td>1.000</td>\n",
       "      <td>1.000</td>\n",
       "      <td>...</td>\n",
       "      <td>0.805</td>\n",
       "      <td>1.000</td>\n",
       "      <td>1.000</td>\n",
       "      <td>0.727</td>\n",
       "      <td>-0.342</td>\n",
       "      <td>-0.933</td>\n",
       "      <td>-1.000</td>\n",
       "      <td>-1.000</td>\n",
       "      <td>-1.000</td>\n",
       "      <td>-1.0</td>\n",
       "    </tr>\n",
       "    <tr>\n",
       "      <th>7289</th>\n",
       "      <td>0.0</td>\n",
       "      <td>-1.000</td>\n",
       "      <td>-1.000</td>\n",
       "      <td>-1.000</td>\n",
       "      <td>-1.000</td>\n",
       "      <td>-1.000</td>\n",
       "      <td>-0.549</td>\n",
       "      <td>0.463</td>\n",
       "      <td>0.999</td>\n",
       "      <td>0.999</td>\n",
       "      <td>...</td>\n",
       "      <td>-0.231</td>\n",
       "      <td>0.621</td>\n",
       "      <td>0.999</td>\n",
       "      <td>-0.042</td>\n",
       "      <td>-0.231</td>\n",
       "      <td>-0.687</td>\n",
       "      <td>-1.000</td>\n",
       "      <td>-1.000</td>\n",
       "      <td>-1.000</td>\n",
       "      <td>-1.0</td>\n",
       "    </tr>\n",
       "    <tr>\n",
       "      <th>7290</th>\n",
       "      <td>1.0</td>\n",
       "      <td>-1.000</td>\n",
       "      <td>-1.000</td>\n",
       "      <td>-1.000</td>\n",
       "      <td>-1.000</td>\n",
       "      <td>-1.000</td>\n",
       "      <td>-0.108</td>\n",
       "      <td>1.000</td>\n",
       "      <td>0.616</td>\n",
       "      <td>-0.867</td>\n",
       "      <td>...</td>\n",
       "      <td>-0.634</td>\n",
       "      <td>0.803</td>\n",
       "      <td>0.589</td>\n",
       "      <td>-0.907</td>\n",
       "      <td>-1.000</td>\n",
       "      <td>-1.000</td>\n",
       "      <td>-1.000</td>\n",
       "      <td>-1.000</td>\n",
       "      <td>-1.000</td>\n",
       "      <td>-1.0</td>\n",
       "    </tr>\n",
       "  </tbody>\n",
       "</table>\n",
       "<p>7291 rows × 257 columns</p>\n",
       "</div>"
      ],
      "text/plain": [
       "      0      1      2      3      4      5      6      7      8      9    ...  \\\n",
       "0     6.0 -1.000 -1.000 -1.000 -1.000 -1.000 -1.000 -1.000 -0.631  0.862  ...   \n",
       "1     5.0 -1.000 -1.000 -1.000 -0.813 -0.671 -0.809 -0.887 -0.671 -0.853  ...   \n",
       "2     4.0 -1.000 -1.000 -1.000 -1.000 -1.000 -1.000 -1.000 -1.000 -1.000  ...   \n",
       "3     7.0 -1.000 -1.000 -1.000 -1.000 -1.000 -0.273  0.684  0.960  0.450  ...   \n",
       "4     3.0 -1.000 -1.000 -1.000 -1.000 -1.000 -0.928 -0.204  0.751  0.466  ...   \n",
       "5     6.0 -1.000 -1.000 -1.000 -1.000 -1.000 -0.397  0.983 -0.535 -1.000  ...   \n",
       "6     3.0 -1.000 -1.000 -1.000 -0.830  0.442  1.000  1.000  0.479 -0.328  ...   \n",
       "7     1.0 -1.000 -1.000 -1.000 -1.000 -1.000 -1.000 -1.000  0.510 -0.213  ...   \n",
       "8     0.0 -1.000 -1.000 -1.000 -1.000 -1.000 -0.454  0.879 -0.745 -1.000  ...   \n",
       "9     1.0 -1.000 -1.000 -1.000 -1.000 -1.000 -1.000 -1.000 -0.909  0.801  ...   \n",
       "10    7.0 -1.000 -1.000 -1.000 -1.000 -1.000 -0.596  0.912  1.000  0.290  ...   \n",
       "11    0.0 -1.000 -1.000 -1.000 -1.000 -1.000 -0.877  0.233  1.000  0.996  ...   \n",
       "12    1.0 -1.000 -1.000 -1.000 -1.000 -1.000 -1.000 -0.998  0.613 -0.385  ...   \n",
       "13    1.0 -1.000 -1.000 -1.000 -1.000 -1.000 -1.000 -1.000  0.457 -0.219  ...   \n",
       "14    7.0 -1.000 -1.000 -1.000 -1.000 -1.000 -1.000 -1.000 -1.000 -0.632  ...   \n",
       "15    7.0 -1.000 -1.000 -1.000 -0.929  0.351  0.798  0.806  0.114  0.015  ...   \n",
       "16    4.0 -1.000 -1.000 -1.000 -1.000 -0.733 -0.916 -1.000 -1.000 -1.000  ...   \n",
       "17    8.0 -1.000 -1.000 -1.000 -1.000 -1.000 -0.992 -0.385 -0.143  0.462  ...   \n",
       "18    0.0 -1.000 -1.000 -1.000 -1.000 -1.000 -0.990  0.019  0.640 -0.553  ...   \n",
       "19    1.0 -1.000 -1.000 -1.000 -1.000 -1.000 -1.000  0.254  0.241 -0.929  ...   \n",
       "20    4.0 -1.000 -1.000 -1.000 -1.000 -1.000 -1.000 -1.000 -0.937  0.802  ...   \n",
       "21    8.0 -1.000 -1.000 -1.000 -1.000 -1.000 -1.000 -0.988  0.646  0.757  ...   \n",
       "22    7.0 -1.000 -1.000 -1.000 -1.000 -0.869  0.777 -0.007 -0.697 -1.000  ...   \n",
       "23    4.0 -1.000 -1.000 -1.000 -1.000 -1.000 -1.000 -1.000 -1.000 -1.000  ...   \n",
       "24    8.0 -1.000 -1.000 -1.000 -1.000 -0.145  0.515  0.515  0.485 -0.062  ...   \n",
       "25    7.0 -1.000 -1.000 -1.000 -1.000 -0.846 -0.011 -0.920 -1.000 -1.000  ...   \n",
       "26    3.0 -1.000 -1.000 -1.000 -1.000 -1.000 -0.104  0.549  0.579  0.579  ...   \n",
       "27    7.0 -1.000 -1.000 -1.000 -1.000 -1.000 -1.000 -1.000 -1.000 -0.959  ...   \n",
       "28    4.0 -1.000 -1.000 -1.000 -1.000 -1.000 -1.000 -1.000 -1.000 -1.000  ...   \n",
       "29    1.0 -1.000 -1.000 -1.000 -1.000 -1.000 -1.000 -1.000 -0.582  0.849  ...   \n",
       "...   ...    ...    ...    ...    ...    ...    ...    ...    ...    ...  ...   \n",
       "7261  5.0 -1.000 -1.000 -1.000 -1.000 -1.000 -1.000 -1.000 -0.700 -0.315  ...   \n",
       "7262  0.0 -1.000 -1.000 -1.000 -1.000 -1.000 -0.987 -0.769 -0.260 -0.091  ...   \n",
       "7263  3.0 -1.000 -1.000 -1.000 -0.504 -0.000 -0.000 -0.000 -0.000  0.480  ...   \n",
       "7264  3.0 -1.000 -1.000 -1.000  0.401  1.000  0.706  0.466  0.466  0.466  ...   \n",
       "7265  6.0 -1.000 -1.000 -1.000 -1.000 -1.000 -1.000 -1.000 -1.000 -0.885  ...   \n",
       "7266  5.0 -1.000 -1.000 -1.000 -1.000 -1.000 -1.000 -1.000 -1.000 -1.000  ...   \n",
       "7267  0.0 -1.000 -1.000 -1.000 -1.000 -1.000 -1.000 -1.000 -1.000 -1.000  ...   \n",
       "7268  3.0 -1.000 -1.000 -1.000 -1.000 -1.000 -1.000 -1.000 -1.000 -1.000  ...   \n",
       "7269  5.0 -1.000 -1.000 -1.000 -1.000 -1.000 -1.000 -1.000 -1.000 -1.000  ...   \n",
       "7270  0.0 -1.000 -1.000 -1.000 -1.000 -1.000 -1.000 -1.000 -1.000 -1.000  ...   \n",
       "7271  5.0 -1.000 -1.000 -1.000 -1.000 -1.000 -1.000 -1.000 -0.937 -0.333  ...   \n",
       "7272  0.0 -1.000 -1.000 -1.000 -0.954  0.325  0.520  0.520  0.275 -0.554  ...   \n",
       "7273  3.0 -1.000 -1.000 -1.000 -1.000 -0.852 -0.487  0.183  0.527  1.000  ...   \n",
       "7274  0.0 -1.000 -1.000 -1.000 -0.935  0.154  1.000  1.000  1.000  1.000  ...   \n",
       "7275  9.0 -1.000 -1.000 -1.000 -0.982 -0.643 -0.089  0.515  0.834  1.000  ...   \n",
       "7276  3.0 -1.000 -1.000 -1.000 -1.000 -1.000 -1.000 -0.856 -0.602 -0.602  ...   \n",
       "7277  3.0 -0.929 -0.012  0.407  0.407  0.776  1.000  1.000  1.000  0.543  ...   \n",
       "7278  3.0 -1.000 -1.000 -0.617  0.970  1.000  1.000  1.000  0.829  0.832  ...   \n",
       "7279  0.0 -1.000 -1.000 -1.000 -1.000 -1.000 -0.986  0.376  0.438 -0.732  ...   \n",
       "7280  3.0 -1.000 -1.000 -1.000 -1.000 -1.000 -0.741 -0.561 -0.561 -0.429  ...   \n",
       "7281  3.0 -0.698  0.120  0.360  0.360  0.549  0.785  0.767  0.362  0.357  ...   \n",
       "7282  3.0 -1.000 -0.882 -0.334  0.267  0.333  0.749  1.000  1.000  1.000  ...   \n",
       "7283  3.0 -0.985 -0.048  0.226  0.226  0.226 -0.355 -0.807 -1.000 -0.726  ...   \n",
       "7284  1.0 -1.000 -1.000 -1.000 -1.000 -1.000 -1.000 -1.000 -0.204  1.000  ...   \n",
       "7285  1.0 -1.000 -1.000 -1.000 -1.000 -1.000 -1.000 -0.744  0.788  0.113  ...   \n",
       "7286  3.0 -1.000 -1.000 -1.000 -0.988 -0.527 -0.208  0.620  1.000  0.467  ...   \n",
       "7287  3.0 -1.000 -1.000 -1.000 -0.990  0.708  0.557  0.347 -0.107 -0.758  ...   \n",
       "7288  3.0 -1.000 -1.000 -1.000 -0.783 -0.984 -0.827  0.068  1.000  1.000  ...   \n",
       "7289  0.0 -1.000 -1.000 -1.000 -1.000 -1.000 -0.549  0.463  0.999  0.999  ...   \n",
       "7290  1.0 -1.000 -1.000 -1.000 -1.000 -1.000 -0.108  1.000  0.616 -0.867  ...   \n",
       "\n",
       "        247    248    249    250    251    252    253    254    255  256  \n",
       "0     0.304  0.823  1.000  0.482 -0.474 -0.991 -1.000 -1.000 -1.000 -1.0  \n",
       "1    -0.671 -0.671 -0.033  0.761  0.762  0.126 -0.095 -0.671 -0.828 -1.0  \n",
       "2    -1.000 -1.000 -1.000 -0.109  1.000 -0.179 -1.000 -1.000 -1.000 -1.0  \n",
       "3    -0.318  1.000  0.536 -0.987 -1.000 -1.000 -1.000 -1.000 -1.000 -1.0  \n",
       "4     0.466  0.639  1.000  1.000  0.791  0.439 -0.199 -0.883 -1.000 -1.0  \n",
       "5     0.803  0.015 -0.862 -0.871 -0.437 -1.000 -1.000 -1.000 -1.000 -1.0  \n",
       "6     1.000  0.671  0.345 -0.507 -1.000 -1.000 -1.000 -1.000 -1.000 -1.0  \n",
       "7    -0.654  0.666  0.301 -1.000 -1.000 -1.000 -1.000 -1.000 -1.000 -1.0  \n",
       "8     1.000  1.000  1.000  0.506 -0.174 -0.811 -1.000 -1.000 -1.000 -1.0  \n",
       "9    -1.000 -0.332  0.735  0.380 -1.000 -1.000 -1.000 -1.000 -1.000 -1.0  \n",
       "10   -1.000 -0.795  0.663 -0.074 -1.000 -1.000 -1.000 -1.000 -1.000 -1.0  \n",
       "11   -0.041  0.947  0.988  0.009 -0.931 -1.000 -1.000 -1.000 -1.000 -1.0  \n",
       "12   -0.968  0.192  0.159 -1.000 -1.000 -1.000 -1.000 -1.000 -1.000 -1.0  \n",
       "13   -1.000 -0.086  0.804 -0.953 -1.000 -1.000 -1.000 -1.000 -1.000 -1.0  \n",
       "14   -1.000 -0.967  0.866 -0.001 -1.000 -1.000 -1.000 -1.000 -1.000 -1.0  \n",
       "15    0.835 -0.086 -0.991 -1.000 -1.000 -1.000 -1.000 -1.000 -1.000 -1.0  \n",
       "16   -0.849  0.745  0.936 -0.396 -1.000 -1.000 -1.000 -1.000 -1.000 -1.0  \n",
       "17   -0.288  0.286  0.988  0.988  0.267 -0.325 -0.962 -1.000 -1.000 -1.0  \n",
       "18    0.363  1.000  0.820 -0.064 -0.969 -1.000 -1.000 -1.000 -1.000 -1.0  \n",
       "19   -1.000 -0.399  0.077 -1.000 -1.000 -1.000 -1.000 -1.000 -1.000 -1.0  \n",
       "20   -0.923  0.589  0.741 -0.862 -1.000 -1.000 -1.000 -1.000 -1.000 -1.0  \n",
       "21   -1.000 -0.544  0.321  1.000 -0.405 -1.000 -1.000 -1.000 -1.000 -1.0  \n",
       "22   -0.933  0.667 -0.315 -1.000 -1.000 -1.000 -1.000 -1.000 -1.000 -1.0  \n",
       "23   -0.902  0.217 -0.929 -1.000 -1.000 -1.000 -1.000 -1.000 -1.000 -1.0  \n",
       "24   -0.978 -0.183  0.494  0.808  0.810  0.353 -0.914 -1.000 -1.000 -1.0  \n",
       "25   -1.000  0.008  0.405 -1.000 -1.000 -1.000 -1.000 -1.000 -1.000 -1.0  \n",
       "26    0.388  0.579  0.811  1.000  1.000  0.715  0.107 -0.526 -1.000 -1.0  \n",
       "27   -1.000 -0.544  0.284 -1.000 -1.000 -1.000 -1.000 -1.000 -1.000 -1.0  \n",
       "28   -1.000 -1.000 -0.125  0.893 -0.563 -1.000 -1.000 -1.000 -1.000 -1.0  \n",
       "29   -0.966  0.624  0.706 -0.819 -1.000 -1.000 -1.000 -1.000 -1.000 -1.0  \n",
       "...     ...    ...    ...    ...    ...    ...    ...    ...    ...  ...  \n",
       "7261  0.754  0.561  0.215 -0.511 -1.000 -1.000 -1.000 -1.000 -1.000 -1.0  \n",
       "7262 -0.091 -0.091 -0.091 -0.244 -0.769 -0.769 -0.978 -1.000 -1.000 -1.0  \n",
       "7263  0.393  0.500  0.863  0.762  0.184 -0.703 -1.000 -1.000 -1.000 -1.0  \n",
       "7264  0.101  0.466  0.976  0.952  0.466  0.187 -0.799 -1.000 -1.000 -1.0  \n",
       "7265 -0.970 -0.084  0.692  1.000  0.991  0.144 -0.870 -1.000 -1.000 -1.0  \n",
       "7266 -1.000 -1.000 -1.000 -1.000 -1.000 -1.000 -1.000 -1.000 -1.000 -1.0  \n",
       "7267 -1.000 -1.000 -1.000 -1.000 -1.000 -1.000 -1.000 -1.000 -1.000 -1.0  \n",
       "7268 -1.000 -1.000 -1.000 -1.000 -1.000 -1.000 -1.000 -1.000 -1.000 -1.0  \n",
       "7269 -1.000 -1.000 -1.000 -1.000 -1.000 -1.000 -1.000 -1.000 -1.000 -1.0  \n",
       "7270 -1.000 -1.000 -1.000 -1.000 -1.000 -1.000 -1.000 -1.000 -1.000 -1.0  \n",
       "7271  0.820  0.549  0.154 -0.763 -1.000 -1.000 -1.000 -1.000 -1.000 -1.0  \n",
       "7272  0.520  0.500 -0.153 -0.705 -1.000 -1.000 -1.000 -1.000 -1.000 -1.0  \n",
       "7273  1.000  0.883  0.428 -0.032 -0.581 -1.000 -1.000 -1.000 -1.000 -1.0  \n",
       "7274  1.000  1.000  1.000  0.586  0.174 -0.885 -1.000 -1.000 -1.000 -1.0  \n",
       "7275  0.856 -0.400 -1.000 -1.000 -1.000 -1.000 -1.000 -1.000 -1.000 -1.0  \n",
       "7276 -0.602 -0.602 -0.965 -1.000 -1.000 -1.000 -1.000 -1.000 -1.000 -1.0  \n",
       "7277  0.407 -0.163 -0.778 -0.982 -1.000 -1.000 -1.000 -1.000 -1.000 -1.0  \n",
       "7278 -0.256  0.183  0.791  1.000  1.000  0.743  0.209 -0.750 -1.000 -1.0  \n",
       "7279 -0.105  0.812  1.000  0.906 -0.046 -0.982 -1.000 -1.000 -1.000 -1.0  \n",
       "7280  0.728  0.462 -0.531  0.218 -0.230 -1.000 -1.000 -1.000 -1.000 -1.0  \n",
       "7281 -1.000 -1.000 -1.000 -1.000 -1.000 -1.000 -1.000 -1.000 -1.000 -1.0  \n",
       "7282  0.968  1.000  1.000  1.000  0.809  0.325 -0.820 -1.000 -1.000 -1.0  \n",
       "7283 -0.307 -0.555 -0.555 -0.555 -0.556 -1.000 -1.000 -1.000 -1.000 -1.0  \n",
       "7284 -1.000  0.028  1.000  0.274 -1.000 -1.000 -1.000 -1.000 -1.000 -1.0  \n",
       "7285 -0.762  0.778  0.786 -0.748 -1.000 -1.000 -1.000 -1.000 -1.000 -1.0  \n",
       "7286 -0.116  0.899  0.416 -0.510 -1.000 -1.000 -1.000 -1.000 -1.000 -1.0  \n",
       "7287  0.697  0.636  0.167 -0.968 -1.000 -1.000 -1.000 -1.000 -1.000 -1.0  \n",
       "7288  0.805  1.000  1.000  0.727 -0.342 -0.933 -1.000 -1.000 -1.000 -1.0  \n",
       "7289 -0.231  0.621  0.999 -0.042 -0.231 -0.687 -1.000 -1.000 -1.000 -1.0  \n",
       "7290 -0.634  0.803  0.589 -0.907 -1.000 -1.000 -1.000 -1.000 -1.000 -1.0  \n",
       "\n",
       "[7291 rows x 257 columns]"
      ]
     },
     "execution_count": 462,
     "metadata": {},
     "output_type": "execute_result"
    }
   ],
   "source": [
    "zip_train"
   ]
  },
  {
   "cell_type": "code",
   "execution_count": 463,
   "metadata": {
    "scrolled": true
   },
   "outputs": [
    {
     "data": {
      "text/plain": [
       "0"
      ]
     },
     "execution_count": 463,
     "metadata": {},
     "output_type": "execute_result"
    }
   ],
   "source": [
    "zip_train.isna().sum().sum()"
   ]
  },
  {
   "cell_type": "code",
   "execution_count": 464,
   "metadata": {
    "scrolled": true
   },
   "outputs": [
    {
     "data": {
      "text/plain": [
       "0"
      ]
     },
     "execution_count": 464,
     "metadata": {},
     "output_type": "execute_result"
    }
   ],
   "source": [
    "zip_test.isna().sum().sum()"
   ]
  },
  {
   "cell_type": "code",
   "execution_count": 528,
   "metadata": {},
   "outputs": [],
   "source": [
    "y_train = zip_train.iloc[:,0].values.astype(np.int)\n",
    "x_train = (zip_train.iloc[:,1:257].values >= 0.3).astype(np.int)\n",
    "#x_train = (zip_train.iloc[:,1:257].values).astype(np.int)\n",
    "\n",
    "y_test = zip_test.iloc[:,0].values.astype(np.int)\n",
    "x_test = (zip_test.iloc[:,1:257].values >= 0.3).astype(np.int)\n",
    "#x_test = (zip_test.iloc[:,1:257].values).astype(np.int)\n",
    "\n",
    "matrix_x_train = [pos.reshape(16,16) for pos in x_train]          \n",
    "matrix_x_test  = [pos.reshape(16,16) for pos in x_test]           \n",
    "new_data = list(zip(matrix_x_train, y_train))"
   ]
  },
  {
   "cell_type": "code",
   "execution_count": 529,
   "metadata": {
    "scrolled": false
   },
   "outputs": [
    {
     "data": {
      "image/png": "[encoded data removed]",
      "text/plain": [
       "<Figure size 432x288 with 5 Axes>"
      ]
     },
     "metadata": {
      "needs_background": "light"
     },
     "output_type": "display_data"
    }
   ],
   "source": [
    "i = 1\n",
    "for index in range(5):\n",
    "    plt.subplot(1, 5, i)\n",
    "    number = matrix_x_train[index]\n",
    "    plt.axis('off')\n",
    "    plt.imshow(number, cmap=plt.cm.gray_r, interpolation='nearest')\n",
    "    i +=1"
   ]
  },
  {
   "cell_type": "code",
   "execution_count": 530,
   "metadata": {},
   "outputs": [],
   "source": [
    "#pca_train = decomposition.PCA(n_components=2)\n",
    "#pca_train.fit(x_train)\n",
    "#x_train = pca_train.transform(x_train)"
   ]
  },
  {
   "cell_type": "code",
   "execution_count": 531,
   "metadata": {
    "scrolled": true
   },
   "outputs": [
    {
     "data": {
      "text/plain": [
       "array([[0, 0, 0, 0, 0, 0, 0, 0, 1, 0, 0, 0, 0, 0, 0, 0],\n",
       "       [0, 0, 0, 0, 0, 0, 0, 0, 1, 1, 0, 0, 0, 0, 0, 0],\n",
       "       [0, 0, 0, 0, 0, 0, 0, 1, 1, 0, 0, 0, 0, 0, 0, 0],\n",
       "       [0, 0, 0, 0, 0, 0, 1, 1, 1, 0, 0, 0, 0, 0, 0, 0],\n",
       "       [0, 0, 0, 0, 0, 1, 1, 1, 0, 0, 0, 0, 0, 0, 0, 0],\n",
       "       [0, 0, 0, 0, 0, 1, 1, 0, 0, 0, 0, 0, 0, 0, 0, 0],\n",
       "       [0, 0, 0, 0, 1, 1, 0, 0, 0, 0, 0, 0, 0, 0, 0, 0],\n",
       "       [0, 0, 0, 1, 1, 1, 0, 0, 0, 0, 1, 1, 1, 0, 0, 0],\n",
       "       [0, 0, 0, 1, 1, 0, 0, 0, 0, 1, 1, 1, 1, 1, 0, 0],\n",
       "       [0, 0, 1, 1, 1, 0, 0, 1, 1, 1, 0, 0, 1, 1, 0, 0],\n",
       "       [0, 0, 1, 1, 0, 0, 0, 1, 1, 0, 0, 0, 1, 1, 0, 0],\n",
       "       [0, 0, 1, 1, 1, 1, 1, 1, 0, 0, 0, 1, 1, 0, 0, 0],\n",
       "       [0, 0, 1, 1, 1, 1, 1, 1, 0, 1, 1, 1, 1, 0, 0, 0],\n",
       "       [0, 0, 0, 1, 1, 1, 1, 1, 1, 1, 1, 1, 0, 0, 0, 0],\n",
       "       [0, 0, 0, 0, 1, 1, 1, 1, 1, 1, 1, 0, 0, 0, 0, 0],\n",
       "       [0, 0, 0, 0, 0, 0, 1, 1, 1, 1, 0, 0, 0, 0, 0, 0]])"
      ]
     },
     "execution_count": 531,
     "metadata": {},
     "output_type": "execute_result"
    }
   ],
   "source": [
    "matrix_x_train[0]"
   ]
  },
  {
   "cell_type": "code",
   "execution_count": 532,
   "metadata": {},
   "outputs": [],
   "source": [
    "def split(array, nrows, ncols):\n",
    "    \"\"\"Split a matrix into sub-matrices.\"\"\"\n",
    "\n",
    "    r, h = array.shape\n",
    "    return (array.reshape(h//nrows, nrows, -1, ncols)\n",
    "                 .swapaxes(1, 2)\n",
    "                 .reshape(-1, nrows, ncols))"
   ]
  },
  {
   "cell_type": "code",
   "execution_count": 583,
   "metadata": {},
   "outputs": [],
   "source": [
    "submatrix_side_len = 8\n",
    "submatrix_height_len = 8\n",
    "submatrix_size = submatrix_side_len * submatrix_height_len\n",
    "\n",
    "height_factor = 16 // submatrix_side_len\n",
    "width_factor = 16 // submatrix_height_len"
   ]
  },
  {
   "cell_type": "code",
   "execution_count": 584,
   "metadata": {
    "scrolled": true
   },
   "outputs": [],
   "source": [
    "resize_data_train = np.zeros((len(matrix_x_train), submatrix_size))\n",
    "for i in range(len(matrix_x_train)):\n",
    "    downsampled = block_reduce(matrix_x_train[i], block_size=(height_factor, width_factor), func=np.mean)\n",
    "    resize_data_train[i] = downsampled.flatten() > 0.2"
   ]
  },
  {
   "cell_type": "code",
   "execution_count": 585,
   "metadata": {},
   "outputs": [],
   "source": [
    "resize_data_test = np.zeros((len(matrix_x_test), submatrix_size))\n",
    "for i in range(len(matrix_x_test)):\n",
    "    downsampled = block_reduce(matrix_x_test[i], block_size=(height_factor, width_factor), func=np.mean)\n",
    "    resize_data_test[i] = downsampled.flatten() > 0.2"
   ]
  },
  {
   "cell_type": "code",
   "execution_count": 586,
   "metadata": {},
   "outputs": [
    {
     "data": {
      "text/plain": [
       "7291"
      ]
     },
     "execution_count": 586,
     "metadata": {},
     "output_type": "execute_result"
    }
   ],
   "source": [
    "matrix_x_train_resized = [pos.reshape(submatrix_side_len, submatrix_height_len) for pos in resize_data_train]          \n",
    "matrix_x_test_resized  = [pos.reshape(submatrix_side_len, submatrix_height_len) for pos in resize_data_test] \n",
    "len(matrix_x_train_resized)"
   ]
  },
  {
   "cell_type": "code",
   "execution_count": 631,
   "metadata": {},
   "outputs": [
    {
     "data": {
      "image/png": "[encoded data removed]",
      "text/plain": [
       "<Figure size 432x288 with 10 Axes>"
      ]
     },
     "metadata": {
      "needs_background": "light"
     },
     "output_type": "display_data"
    }
   ],
   "source": [
    "i = 1\n",
    "for index in range(10):\n",
    "    plt.subplot(1, 10, i)\n",
    "    number = matrix_x_train_resized[index]\n",
    "    plt.axis('off')\n",
    "    plt.imshow(number, cmap=plt.cm.gray_r)\n",
    "    i +=1"
   ]
  },
  {
   "cell_type": "code",
   "execution_count": 632,
   "metadata": {},
   "outputs": [
    {
     "data": {
      "text/plain": [
       "64"
      ]
     },
     "execution_count": 632,
     "metadata": {},
     "output_type": "execute_result"
    }
   ],
   "source": [
    "n_inputs = len(resize_data_train[0])\n",
    "#n_inputs = len(x_train[0])\n",
    "n_inputs"
   ]
  },
  {
   "cell_type": "code",
   "execution_count": 633,
   "metadata": {},
   "outputs": [
    {
     "data": {
      "text/plain": [
       "1980"
      ]
     },
     "execution_count": 633,
     "metadata": {},
     "output_type": "execute_result"
    }
   ],
   "source": [
    "GRID_HEIGHT = 44\n",
    "GRID_WIDTH = 45\n",
    "GRID_HEIGHT*GRID_WIDTH"
   ]
  },
  {
   "cell_type": "code",
   "execution_count": 634,
   "metadata": {
    "scrolled": false
   },
   "outputs": [
    {
     "name": "stdout",
     "output_type": "stream",
     "text": [
      "\n",
      "Main information\n",
      "\n",
      "[ALGORITHM] SOFM\n",
      "\r\n",
      "[OPTION] distance = ['euclid', 'neg_euclid_distance']\n",
      "[OPTION] features_grid = None\n",
      "[OPTION] grid_type = ['rectangle', 'find_neighbours_on_rect_grid', 'find_step_scaler_on_rect_grid']\n",
      "[OPTION] learning_radius = 3\n",
      "[OPTION] n_inputs = 64\n",
      "[OPTION] n_outputs = 10\n",
      "[OPTION] reduce_radius_after = 5\n",
      "[OPTION] reduce_std_after = 100\n",
      "[OPTION] reduce_step_after = 100\n",
      "[OPTION] show_epoch = 5\n",
      "[OPTION] shuffle_data = True\n",
      "[OPTION] signals = None\n",
      "[OPTION] std = 1\n",
      "[OPTION] step = 0.05\n",
      "[OPTION] verbose = True\n",
      "[OPTION] weight = sample_data\n",
      "\r\n"
     ]
    },
    {
     "name": "stderr",
     "output_type": "stream",
     "text": [
      "\r",
      "                                                                               \r"
     ]
    },
    {
     "name": "stdout",
     "output_type": "stream",
     "text": [
      "#1 : [2 sec] train: 0.325645\n"
     ]
    },
    {
     "name": "stderr",
     "output_type": "stream",
     "text": [
      "                                                                               \r"
     ]
    },
    {
     "name": "stdout",
     "output_type": "stream",
     "text": [
      "#5 : [1 sec] train: 0.310173\n"
     ]
    },
    {
     "name": "stderr",
     "output_type": "stream",
     "text": [
      "                                                                               \r"
     ]
    },
    {
     "name": "stdout",
     "output_type": "stream",
     "text": [
      "#10 : [2 sec] train: 0.286371\n"
     ]
    },
    {
     "name": "stderr",
     "output_type": "stream",
     "text": [
      "                                                                               \r"
     ]
    },
    {
     "name": "stdout",
     "output_type": "stream",
     "text": [
      "#15 : [2 sec] train: 0.227639\n"
     ]
    },
    {
     "name": "stderr",
     "output_type": "stream",
     "text": [
      "                                                                               \r"
     ]
    },
    {
     "name": "stdout",
     "output_type": "stream",
     "text": [
      "#20 : [1 sec] train: 0.225439\n"
     ]
    },
    {
     "name": "stderr",
     "output_type": "stream",
     "text": [
      "\r",
      "                                                                               \r"
     ]
    }
   ],
   "source": [
    "sofm = algorithms.SOFM(\n",
    "    n_inputs=n_inputs,\n",
    "    n_outputs=10,\n",
    "    distance='euclid',\n",
    "    #features_grid=(GRID_HEIGHT, GRID_WIDTH),  # Just me trying weird stuff\n",
    "    grid_type='rect',\n",
    "    # With large number of training samples it's safer\n",
    "    # to use small step (learning rate)\n",
    "    step=0.05,\n",
    "    std=1,\n",
    "    shuffle_data=True,         # Shuffles dataset before every training epoch.\n",
    "    weight='sample_from_data',\n",
    "\n",
    "    learning_radius=3,\n",
    "    \n",
    "    # after 10 iteration learning radius would be 0\n",
    "    reduce_radius_after=5,\n",
    "    verbose=True,             # Shows training progress in terminal\n",
    "    show_epoch = 5           # Shows verbose each N\n",
    ")\n",
    "sofm.train(resize_data_train, epochs=20)\n",
    "#sofm.train(x_train, epochs=10)"
   ]
  },
  {
   "cell_type": "code",
   "execution_count": 635,
   "metadata": {},
   "outputs": [],
   "source": [
    "a = sofm.predict(resize_data_train)\n",
    "#a = sofm.predict(x_train)"
   ]
  },
  {
   "cell_type": "code",
   "execution_count": 636,
   "metadata": {},
   "outputs": [
    {
     "data": {
      "text/plain": [
       "(7291, 10)"
      ]
     },
     "execution_count": 636,
     "metadata": {},
     "output_type": "execute_result"
    }
   ],
   "source": [
    "a.shape"
   ]
  },
  {
   "cell_type": "code",
   "execution_count": 637,
   "metadata": {},
   "outputs": [],
   "source": [
    "#clusters = sofm.predict(x_test).argmax(axis=1)\n",
    "clusters = sofm.predict(resize_data_test).argmax(axis=1)"
   ]
  },
  {
   "cell_type": "code",
   "execution_count": 638,
   "metadata": {},
   "outputs": [
    {
     "data": {
      "text/plain": [
       "array([9, 6, 3, ..., 4, 0, 1])"
      ]
     },
     "execution_count": 638,
     "metadata": {},
     "output_type": "execute_result"
    }
   ],
   "source": [
    "y_test"
   ]
  },
  {
   "cell_type": "code",
   "execution_count": 639,
   "metadata": {},
   "outputs": [
    {
     "data": {
      "text/plain": [
       "'\"\\nprint(\"Building visualization...\")\\nplt.figure(figsize=(12, 11))\\n\\ngrid = gridspec.GridSpec(GRID_HEIGHT, GRID_WIDTH)\\ngrid.update(wspace=0, hspace=0)\\nSamples = []\\nfor row_id in range(GRID_HEIGHT):\\n    print(\"Progress: {:.2%}\".format(row_id / GRID_HEIGHT))\\n\\n    for col_id in range(GRID_WIDTH):\\n        index = row_id * GRID_HEIGHT + col_id\\n        clustered_samples = x_test[clusters == index]\\n\\n        if len(clustered_samples) > 0:\\n            # We take the first sample, but it can be any\\n            # sample from this cluster\\n            sample = clustered_samples[0]\\n        else:\\n            # If we don\\'t have samples in cluster then\\n            # it means that there is a gap in space\\n            sample = np.zeros(256)\\n        Samples.append(sample)\\n        plt.subplot(grid[index])\\n        plt.imshow(sample.reshape((16, 16)), cmap=\\'Greys\\')\\n        plt.axis(\\'off\\')\\n\\nprint(\"Visualization has been built succesfully\")\\nplt.show()\\n'"
      ]
     },
     "execution_count": 639,
     "metadata": {},
     "output_type": "execute_result"
    }
   ],
   "source": [
    "\"\"\"\"\n",
    "print(\"Building visualization...\")\n",
    "plt.figure(figsize=(12, 11))\n",
    "\n",
    "grid = gridspec.GridSpec(GRID_HEIGHT, GRID_WIDTH)\n",
    "grid.update(wspace=0, hspace=0)\n",
    "Samples = []\n",
    "for row_id in range(GRID_HEIGHT):\n",
    "    print(\"Progress: {:.2%}\".format(row_id / GRID_HEIGHT))\n",
    "\n",
    "    for col_id in range(GRID_WIDTH):\n",
    "        index = row_id * GRID_HEIGHT + col_id\n",
    "        clustered_samples = x_test[clusters == index]\n",
    "\n",
    "        if len(clustered_samples) > 0:\n",
    "            # We take the first sample, but it can be any\n",
    "            # sample from this cluster\n",
    "            sample = clustered_samples[0]\n",
    "        else:\n",
    "            # If we don't have samples in cluster then\n",
    "            # it means that there is a gap in space\n",
    "            sample = np.zeros(256)\n",
    "        Samples.append(sample)\n",
    "        plt.subplot(grid[index])\n",
    "        plt.imshow(sample.reshape((16, 16)), cmap='Greys')\n",
    "        plt.axis('off')\n",
    "\n",
    "print(\"Visualization has been built succesfully\")\n",
    "plt.show()\n",
    "\"\"\""
   ]
  },
  {
   "cell_type": "code",
   "execution_count": 640,
   "metadata": {},
   "outputs": [],
   "source": [
    "#pca_test = decomposition.PCA(n_components=2)\n",
    "#pca_test.fit(x_test)\n",
    "#x_test = pca_test.transform(x_test)"
   ]
  },
  {
   "cell_type": "code",
   "execution_count": 641,
   "metadata": {},
   "outputs": [
    {
     "data": {
      "text/plain": [
       "(164, 256)"
      ]
     },
     "execution_count": 641,
     "metadata": {},
     "output_type": "execute_result"
    }
   ],
   "source": [
    "array_samples = np.asarray(Samples)\n",
    "array_samples.shape"
   ]
  },
  {
   "cell_type": "code",
   "execution_count": 642,
   "metadata": {},
   "outputs": [],
   "source": [
    "predicted = sofm.predict(resize_data_test)\n",
    "#predicted = sofm.predict(x_test)\n",
    "predicted = predicted.nonzero()[1]"
   ]
  },
  {
   "cell_type": "code",
   "execution_count": 643,
   "metadata": {},
   "outputs": [],
   "source": [
    "original_y_test = y_test"
   ]
  },
  {
   "cell_type": "code",
   "execution_count": 644,
   "metadata": {},
   "outputs": [
    {
     "name": "stdout",
     "output_type": "stream",
     "text": [
      "Mapping 0\n",
      "\n",
      "Información del clasificador SOFM SOFM(verbose=True, step=0.05, show_epoch=5, shuffle_data=True, signals=None, n_inputs=64, n_outputs=10, weight=(64, 10), features_grid=[10, 1], distance=['euclid', 'neg_euclid_distance'], grid_type=['rectangle', 'find_neighbours_on_rect_grid', 'find_step_scaler_on_rect_grid'], learning_radius=3, std=1, reduce_radius_after=5, reduce_std_after=100, reduce_step_after=100):\n",
      "              precision    recall  f1-score   support\n",
      "\n",
      "           0       0.00      0.00      0.00       359\n",
      "           1       0.01      0.01      0.01       264\n",
      "           2       0.02      0.02      0.02       198\n",
      "           3       0.00      0.00      0.00       166\n",
      "           4       0.32      0.21      0.25       200\n",
      "           5       0.08      0.11      0.09       160\n",
      "           6       0.00      0.00      0.00       170\n",
      "           7       0.00      0.01      0.01       147\n",
      "           8       0.03      0.04      0.03       166\n",
      "           9       0.00      0.00      0.00       177\n",
      "\n",
      "    accuracy                           0.04      2007\n",
      "   macro avg       0.05      0.04      0.04      2007\n",
      "weighted avg       0.05      0.04      0.04      2007\n",
      "\n",
      "\n",
      "\n",
      "Confusion matrix:\n",
      "[[  1   4   1   0   6  31   1   1 160 154]\n",
      " [254   3   0   1   1   5   0   0   0   0]\n",
      " [  2   9   3   0  59   3 104   7   7   4]\n",
      " [  1  24   2   0   2   3   5 118   2   9]\n",
      " [  6  61   1  85  42   4   0   0   1   0]\n",
      " [  1   9   0  19   9  17   0  98   4   3]\n",
      " [  0   0   0   1   7 137   0   1  10  14]\n",
      " [  1  32 102  10   1   0   0   1   0   0]\n",
      " [  1  73   1  39   4  10  13  18   6   1]\n",
      " [  3  99  14  60   0   0   0   1   0   0]]\n"
     ]
    },
    {
     "data": {
      "image/png": "[encoded data removed]",
      "text/plain": [
       "<Figure size 432x288 with 2 Axes>"
      ]
     },
     "metadata": {
      "needs_background": "light"
     },
     "output_type": "display_data"
    },
    {
     "name": "stdout",
     "output_type": "stream",
     "text": [
      "Mapping 1\n",
      "\n",
      "Información del clasificador SOFM SOFM(verbose=True, step=0.05, show_epoch=5, shuffle_data=True, signals=None, n_inputs=64, n_outputs=10, weight=(64, 10), features_grid=[10, 1], distance=['euclid', 'neg_euclid_distance'], grid_type=['rectangle', 'find_neighbours_on_rect_grid', 'find_step_scaler_on_rect_grid'], learning_radius=3, std=1, reduce_radius_after=5, reduce_std_after=100, reduce_step_after=100):\n",
      "              precision    recall  f1-score   support\n",
      "\n",
      "           0       0.01      0.02      0.01       177\n",
      "           1       0.01      0.01      0.01       359\n",
      "           2       0.00      0.00      0.00       264\n",
      "           3       0.00      0.00      0.00       198\n",
      "           4       0.02      0.01      0.01       166\n",
      "           5       0.02      0.02      0.02       200\n",
      "           6       0.00      0.00      0.00       160\n",
      "           7       0.00      0.01      0.00       170\n",
      "           8       0.00      0.00      0.00       147\n",
      "           9       0.01      0.01      0.01       166\n",
      "\n",
      "    accuracy                           0.01      2007\n",
      "   macro avg       0.01      0.01      0.01      2007\n",
      "weighted avg       0.01      0.01      0.01      2007\n",
      "\n",
      "\n",
      "\n",
      "Confusion matrix:\n",
      "[[  3  99  14  60   0   0   0   1   0   0]\n",
      " [  1   4   1   0   6  31   1   1 160 154]\n",
      " [254   3   0   1   1   5   0   0   0   0]\n",
      " [  2   9   3   0  59   3 104   7   7   4]\n",
      " [  1  24   2   0   2   3   5 118   2   9]\n",
      " [  6  61   1  85  42   4   0   0   1   0]\n",
      " [  1   9   0  19   9  17   0  98   4   3]\n",
      " [  0   0   0   1   7 137   0   1  10  14]\n",
      " [  1  32 102  10   1   0   0   1   0   0]\n",
      " [  1  73   1  39   4  10  13  18   6   1]]\n"
     ]
    },
    {
     "data": {
      "image/png": "[encoded data removed]",
      "text/plain": [
       "<Figure size 432x288 with 2 Axes>"
      ]
     },
     "metadata": {
      "needs_background": "light"
     },
     "output_type": "display_data"
    },
    {
     "name": "stdout",
     "output_type": "stream",
     "text": [
      "Mapping 2\n",
      "\n",
      "Información del clasificador SOFM SOFM(verbose=True, step=0.05, show_epoch=5, shuffle_data=True, signals=None, n_inputs=64, n_outputs=10, weight=(64, 10), features_grid=[10, 1], distance=['euclid', 'neg_euclid_distance'], grid_type=['rectangle', 'find_neighbours_on_rect_grid', 'find_step_scaler_on_rect_grid'], learning_radius=3, std=1, reduce_radius_after=5, reduce_std_after=100, reduce_step_after=100):\n",
      "              precision    recall  f1-score   support\n",
      "\n",
      "           0       0.00      0.01      0.00       166\n",
      "           1       0.32      0.56      0.40       177\n",
      "           2       0.01      0.00      0.00       359\n",
      "           3       0.00      0.00      0.00       264\n",
      "           4       0.45      0.30      0.36       198\n",
      "           5       0.01      0.02      0.02       166\n",
      "           6       0.00      0.00      0.00       200\n",
      "           7       0.40      0.61      0.48       160\n",
      "           8       0.05      0.06      0.06       170\n",
      "           9       0.00      0.00      0.00       147\n",
      "\n",
      "    accuracy                           0.14      2007\n",
      "   macro avg       0.12      0.16      0.13      2007\n",
      "weighted avg       0.11      0.14      0.12      2007\n",
      "\n",
      "\n",
      "\n",
      "Confusion matrix:\n",
      "[[  1  73   1  39   4  10  13  18   6   1]\n",
      " [  3  99  14  60   0   0   0   1   0   0]\n",
      " [  1   4   1   0   6  31   1   1 160 154]\n",
      " [254   3   0   1   1   5   0   0   0   0]\n",
      " [  2   9   3   0  59   3 104   7   7   4]\n",
      " [  1  24   2   0   2   3   5 118   2   9]\n",
      " [  6  61   1  85  42   4   0   0   1   0]\n",
      " [  1   9   0  19   9  17   0  98   4   3]\n",
      " [  0   0   0   1   7 137   0   1  10  14]\n",
      " [  1  32 102  10   1   0   0   1   0   0]]\n"
     ]
    },
    {
     "data": {
      "image/png": "[encoded data removed]",
      "text/plain": [
       "<Figure size 432x288 with 2 Axes>"
      ]
     },
     "metadata": {
      "needs_background": "light"
     },
     "output_type": "display_data"
    },
    {
     "name": "stdout",
     "output_type": "stream",
     "text": [
      "Mapping 3\n",
      "\n",
      "Información del clasificador SOFM SOFM(verbose=True, step=0.05, show_epoch=5, shuffle_data=True, signals=None, n_inputs=64, n_outputs=10, weight=(64, 10), features_grid=[10, 1], distance=['euclid', 'neg_euclid_distance'], grid_type=['rectangle', 'find_neighbours_on_rect_grid', 'find_step_scaler_on_rect_grid'], learning_radius=3, std=1, reduce_radius_after=5, reduce_std_after=100, reduce_step_after=100):\n",
      "              precision    recall  f1-score   support\n",
      "\n",
      "           0       0.00      0.01      0.00       147\n",
      "           1       0.23      0.44      0.30       166\n",
      "           2       0.11      0.08      0.09       177\n",
      "           3       0.00      0.00      0.00       359\n",
      "           4       0.01      0.00      0.01       264\n",
      "           5       0.01      0.02      0.01       198\n",
      "           6       0.04      0.03      0.03       166\n",
      "           7       0.00      0.00      0.00       200\n",
      "           8       0.02      0.03      0.02       160\n",
      "           9       0.08      0.08      0.08       170\n",
      "\n",
      "    accuracy                           0.06      2007\n",
      "   macro avg       0.05      0.07      0.06      2007\n",
      "weighted avg       0.04      0.06      0.05      2007\n",
      "\n",
      "\n",
      "\n",
      "Confusion matrix:\n",
      "[[  1  32 102  10   1   0   0   1   0   0]\n",
      " [  1  73   1  39   4  10  13  18   6   1]\n",
      " [  3  99  14  60   0   0   0   1   0   0]\n",
      " [  1   4   1   0   6  31   1   1 160 154]\n",
      " [254   3   0   1   1   5   0   0   0   0]\n",
      " [  2   9   3   0  59   3 104   7   7   4]\n",
      " [  1  24   2   0   2   3   5 118   2   9]\n",
      " [  6  61   1  85  42   4   0   0   1   0]\n",
      " [  1   9   0  19   9  17   0  98   4   3]\n",
      " [  0   0   0   1   7 137   0   1  10  14]]\n"
     ]
    },
    {
     "data": {
      "image/png": "[encoded data removed]",
      "text/plain": [
       "<Figure size 432x288 with 2 Axes>"
      ]
     },
     "metadata": {
      "needs_background": "light"
     },
     "output_type": "display_data"
    },
    {
     "name": "stdout",
     "output_type": "stream",
     "text": [
      "Mapping 4\n",
      "\n",
      "Información del clasificador SOFM SOFM(verbose=True, step=0.05, show_epoch=5, shuffle_data=True, signals=None, n_inputs=64, n_outputs=10, weight=(64, 10), features_grid=[10, 1], distance=['euclid', 'neg_euclid_distance'], grid_type=['rectangle', 'find_neighbours_on_rect_grid', 'find_step_scaler_on_rect_grid'], learning_radius=3, std=1, reduce_radius_after=5, reduce_std_after=100, reduce_step_after=100):\n",
      "              precision    recall  f1-score   support\n",
      "\n",
      "           0       0.00      0.00      0.00       170\n",
      "           1       0.10      0.22      0.14       147\n",
      "           2       0.01      0.01      0.01       166\n",
      "           3       0.28      0.34      0.31       177\n",
      "           4       0.05      0.02      0.02       359\n",
      "           5       0.02      0.02      0.02       264\n",
      "           6       0.85      0.53      0.65       198\n",
      "           7       0.48      0.71      0.57       166\n",
      "           8       0.01      0.01      0.01       200\n",
      "           9       0.02      0.02      0.02       160\n",
      "\n",
      "    accuracy                           0.16      2007\n",
      "   macro avg       0.18      0.19      0.17      2007\n",
      "weighted avg       0.17      0.16      0.16      2007\n",
      "\n",
      "\n",
      "\n",
      "Confusion matrix:\n",
      "[[  0   0   0   1   7 137   0   1  10  14]\n",
      " [  1  32 102  10   1   0   0   1   0   0]\n",
      " [  1  73   1  39   4  10  13  18   6   1]\n",
      " [  3  99  14  60   0   0   0   1   0   0]\n",
      " [  1   4   1   0   6  31   1   1 160 154]\n",
      " [254   3   0   1   1   5   0   0   0   0]\n",
      " [  2   9   3   0  59   3 104   7   7   4]\n",
      " [  1  24   2   0   2   3   5 118   2   9]\n",
      " [  6  61   1  85  42   4   0   0   1   0]\n",
      " [  1   9   0  19   9  17   0  98   4   3]]\n"
     ]
    },
    {
     "data": {
      "image/png": "[encoded data removed]",
      "text/plain": [
       "<Figure size 432x288 with 2 Axes>"
      ]
     },
     "metadata": {
      "needs_background": "light"
     },
     "output_type": "display_data"
    },
    {
     "name": "stdout",
     "output_type": "stream",
     "text": [
      "Mapping 5\n",
      "\n",
      "Información del clasificador SOFM SOFM(verbose=True, step=0.05, show_epoch=5, shuffle_data=True, signals=None, n_inputs=64, n_outputs=10, weight=(64, 10), features_grid=[10, 1], distance=['euclid', 'neg_euclid_distance'], grid_type=['rectangle', 'find_neighbours_on_rect_grid', 'find_step_scaler_on_rect_grid'], learning_radius=3, std=1, reduce_radius_after=5, reduce_std_after=100, reduce_step_after=100):\n",
      "              precision    recall  f1-score   support\n",
      "\n",
      "           0       0.00      0.01      0.00       160\n",
      "           1       0.00      0.00      0.00       170\n",
      "           2       0.82      0.69      0.75       147\n",
      "           3       0.18      0.23      0.20       166\n",
      "           4       0.00      0.00      0.00       177\n",
      "           5       0.15      0.09      0.11       359\n",
      "           6       0.00      0.00      0.00       264\n",
      "           7       0.03      0.04      0.03       198\n",
      "           8       0.01      0.01      0.01       166\n",
      "           9       0.00      0.00      0.00       200\n",
      "\n",
      "    accuracy                           0.09      2007\n",
      "   macro avg       0.12      0.11      0.11      2007\n",
      "weighted avg       0.11      0.09      0.10      2007\n",
      "\n",
      "\n",
      "\n",
      "Confusion matrix:\n",
      "[[  1   9   0  19   9  17   0  98   4   3]\n",
      " [  0   0   0   1   7 137   0   1  10  14]\n",
      " [  1  32 102  10   1   0   0   1   0   0]\n",
      " [  1  73   1  39   4  10  13  18   6   1]\n",
      " [  3  99  14  60   0   0   0   1   0   0]\n",
      " [  1   4   1   0   6  31   1   1 160 154]\n",
      " [254   3   0   1   1   5   0   0   0   0]\n",
      " [  2   9   3   0  59   3 104   7   7   4]\n",
      " [  1  24   2   0   2   3   5 118   2   9]\n",
      " [  6  61   1  85  42   4   0   0   1   0]]\n"
     ]
    },
    {
     "data": {
      "image/png": "[encoded data removed]",
      "text/plain": [
       "<Figure size 432x288 with 2 Axes>"
      ]
     },
     "metadata": {
      "needs_background": "light"
     },
     "output_type": "display_data"
    },
    {
     "name": "stdout",
     "output_type": "stream",
     "text": [
      "Mapping 6\n",
      "\n",
      "Información del clasificador SOFM SOFM(verbose=True, step=0.05, show_epoch=5, shuffle_data=True, signals=None, n_inputs=64, n_outputs=10, weight=(64, 10), features_grid=[10, 1], distance=['euclid', 'neg_euclid_distance'], grid_type=['rectangle', 'find_neighbours_on_rect_grid', 'find_step_scaler_on_rect_grid'], learning_radius=3, std=1, reduce_radius_after=5, reduce_std_after=100, reduce_step_after=100):\n",
      "              precision    recall  f1-score   support\n",
      "\n",
      "           0       0.02      0.03      0.03       200\n",
      "           1       0.03      0.06      0.04       160\n",
      "           2       0.00      0.00      0.00       170\n",
      "           3       0.05      0.07      0.06       147\n",
      "           4       0.03      0.02      0.03       166\n",
      "           5       0.00      0.00      0.00       177\n",
      "           6       0.01      0.00      0.00       359\n",
      "           7       0.00      0.00      0.00       264\n",
      "           8       0.04      0.04      0.04       198\n",
      "           9       0.05      0.05      0.05       166\n",
      "\n",
      "    accuracy                           0.02      2007\n",
      "   macro avg       0.02      0.03      0.02      2007\n",
      "weighted avg       0.02      0.02      0.02      2007\n",
      "\n",
      "\n",
      "\n",
      "Confusion matrix:\n",
      "[[  6  61   1  85  42   4   0   0   1   0]\n",
      " [  1   9   0  19   9  17   0  98   4   3]\n",
      " [  0   0   0   1   7 137   0   1  10  14]\n",
      " [  1  32 102  10   1   0   0   1   0   0]\n",
      " [  1  73   1  39   4  10  13  18   6   1]\n",
      " [  3  99  14  60   0   0   0   1   0   0]\n",
      " [  1   4   1   0   6  31   1   1 160 154]\n",
      " [254   3   0   1   1   5   0   0   0   0]\n",
      " [  2   9   3   0  59   3 104   7   7   4]\n",
      " [  1  24   2   0   2   3   5 118   2   9]]\n"
     ]
    },
    {
     "data": {
      "image/png": "[encoded data removed]",
      "text/plain": [
       "<Figure size 432x288 with 2 Axes>"
      ]
     },
     "metadata": {
      "needs_background": "light"
     },
     "output_type": "display_data"
    },
    {
     "name": "stdout",
     "output_type": "stream",
     "text": [
      "Mapping 7\n",
      "\n",
      "Información del clasificador SOFM SOFM(verbose=True, step=0.05, show_epoch=5, shuffle_data=True, signals=None, n_inputs=64, n_outputs=10, weight=(64, 10), features_grid=[10, 1], distance=['euclid', 'neg_euclid_distance'], grid_type=['rectangle', 'find_neighbours_on_rect_grid', 'find_step_scaler_on_rect_grid'], learning_radius=3, std=1, reduce_radius_after=5, reduce_std_after=100, reduce_step_after=100):\n",
      "              precision    recall  f1-score   support\n",
      "\n",
      "           0       0.00      0.01      0.00       166\n",
      "           1       0.19      0.30      0.24       200\n",
      "           2       0.00      0.00      0.00       160\n",
      "           3       0.00      0.01      0.01       170\n",
      "           4       0.01      0.01      0.01       147\n",
      "           5       0.05      0.06      0.05       166\n",
      "           6       0.00      0.00      0.00       177\n",
      "           7       0.00      0.00      0.00       359\n",
      "           8       0.00      0.00      0.00       264\n",
      "           9       0.02      0.02      0.02       198\n",
      "\n",
      "    accuracy                           0.04      2007\n",
      "   macro avg       0.03      0.04      0.03      2007\n",
      "weighted avg       0.03      0.04      0.03      2007\n",
      "\n",
      "\n",
      "\n",
      "Confusion matrix:\n",
      "[[  1  24   2   0   2   3   5 118   2   9]\n",
      " [  6  61   1  85  42   4   0   0   1   0]\n",
      " [  1   9   0  19   9  17   0  98   4   3]\n",
      " [  0   0   0   1   7 137   0   1  10  14]\n",
      " [  1  32 102  10   1   0   0   1   0   0]\n",
      " [  1  73   1  39   4  10  13  18   6   1]\n",
      " [  3  99  14  60   0   0   0   1   0   0]\n",
      " [  1   4   1   0   6  31   1   1 160 154]\n",
      " [254   3   0   1   1   5   0   0   0   0]\n",
      " [  2   9   3   0  59   3 104   7   7   4]]\n"
     ]
    },
    {
     "data": {
      "image/png": "[encoded data removed]",
      "text/plain": [
       "<Figure size 432x288 with 2 Axes>"
      ]
     },
     "metadata": {
      "needs_background": "light"
     },
     "output_type": "display_data"
    },
    {
     "name": "stdout",
     "output_type": "stream",
     "text": [
      "Mapping 8\n",
      "\n",
      "Información del clasificador SOFM SOFM(verbose=True, step=0.05, show_epoch=5, shuffle_data=True, signals=None, n_inputs=64, n_outputs=10, weight=(64, 10), features_grid=[10, 1], distance=['euclid', 'neg_euclid_distance'], grid_type=['rectangle', 'find_neighbours_on_rect_grid', 'find_step_scaler_on_rect_grid'], learning_radius=3, std=1, reduce_radius_after=5, reduce_std_after=100, reduce_step_after=100):\n",
      "              precision    recall  f1-score   support\n",
      "\n",
      "           0       0.01      0.01      0.01       198\n",
      "           1       0.08      0.14      0.10       166\n",
      "           2       0.01      0.01      0.01       200\n",
      "           3       0.09      0.12      0.10       160\n",
      "           4       0.05      0.04      0.05       170\n",
      "           5       0.00      0.00      0.00       147\n",
      "           6       0.11      0.08      0.09       166\n",
      "           7       0.00      0.01      0.00       177\n",
      "           8       0.84      0.45      0.58       359\n",
      "           9       0.00      0.00      0.00       264\n",
      "\n",
      "    accuracy                           0.11      2007\n",
      "   macro avg       0.12      0.08      0.09      2007\n",
      "weighted avg       0.18      0.11      0.13      2007\n",
      "\n",
      "\n",
      "\n",
      "Confusion matrix:\n",
      "[[  2   9   3   0  59   3 104   7   7   4]\n",
      " [  1  24   2   0   2   3   5 118   2   9]\n",
      " [  6  61   1  85  42   4   0   0   1   0]\n",
      " [  1   9   0  19   9  17   0  98   4   3]\n",
      " [  0   0   0   1   7 137   0   1  10  14]\n",
      " [  1  32 102  10   1   0   0   1   0   0]\n",
      " [  1  73   1  39   4  10  13  18   6   1]\n",
      " [  3  99  14  60   0   0   0   1   0   0]\n",
      " [  1   4   1   0   6  31   1   1 160 154]\n",
      " [254   3   0   1   1   5   0   0   0   0]]\n"
     ]
    },
    {
     "data": {
      "image/png": "[encoded data removed]",
      "text/plain": [
       "<Figure size 432x288 with 2 Axes>"
      ]
     },
     "metadata": {
      "needs_background": "light"
     },
     "output_type": "display_data"
    },
    {
     "name": "stdout",
     "output_type": "stream",
     "text": [
      "Mapping 9\n",
      "\n",
      "Información del clasificador SOFM SOFM(verbose=True, step=0.05, show_epoch=5, shuffle_data=True, signals=None, n_inputs=64, n_outputs=10, weight=(64, 10), features_grid=[10, 1], distance=['euclid', 'neg_euclid_distance'], grid_type=['rectangle', 'find_neighbours_on_rect_grid', 'find_step_scaler_on_rect_grid'], learning_radius=3, std=1, reduce_radius_after=5, reduce_std_after=100, reduce_step_after=100):\n",
      "              precision    recall  f1-score   support\n",
      "\n",
      "           0       0.94      0.96      0.95       264\n",
      "           1       0.03      0.05      0.04       198\n",
      "           2       0.02      0.01      0.01       166\n",
      "           3       0.40      0.42      0.41       200\n",
      "           4       0.07      0.06      0.06       160\n",
      "           5       0.65      0.81      0.72       170\n",
      "           6       0.00      0.00      0.00       147\n",
      "           7       0.07      0.11      0.09       166\n",
      "           8       0.00      0.00      0.00       177\n",
      "           9       0.83      0.43      0.57       359\n",
      "\n",
      "    accuracy                           0.33      2007\n",
      "   macro avg       0.30      0.28      0.28      2007\n",
      "weighted avg       0.38      0.33      0.35      2007\n",
      "\n",
      "\n",
      "\n",
      "Confusion matrix:\n",
      "[[254   3   0   1   1   5   0   0   0   0]\n",
      " [  2   9   3   0  59   3 104   7   7   4]\n",
      " [  1  24   2   0   2   3   5 118   2   9]\n",
      " [  6  61   1  85  42   4   0   0   1   0]\n",
      " [  1   9   0  19   9  17   0  98   4   3]\n",
      " [  0   0   0   1   7 137   0   1  10  14]\n",
      " [  1  32 102  10   1   0   0   1   0   0]\n",
      " [  1  73   1  39   4  10  13  18   6   1]\n",
      " [  3  99  14  60   0   0   0   1   0   0]\n",
      " [  1   4   1   0   6  31   1   1 160 154]]\n"
     ]
    },
    {
     "data": {
      "image/png": "[encoded data removed]",
      "text/plain": [
       "<Figure size 432x288 with 2 Axes>"
      ]
     },
     "metadata": {
      "needs_background": "light"
     },
     "output_type": "display_data"
    }
   ],
   "source": [
    "for k in range(10):\n",
    "    print('Mapping {}'.format(k))\n",
    "    new_ytest = (original_y_test + k) % 10\n",
    "    \n",
    "    clr = (sofm, classification_report(new_ytest, predicted))\n",
    "    print(\"\\nInformación del clasificador SOFM %s:\\n%s\\n\\n\" % clr)\n",
    "    \n",
    "    cm = confusion_matrix(new_ytest, predicted)              \n",
    "    print(\"Confusion matrix:\\n%s\" % cm)\n",
    "    \n",
    "    classes = ['0','1', '2','3','4','5','6','7','8','9']            \n",
    "    fig, ax = plt.subplots()\n",
    "    im = ax.imshow(cm, interpolation='nearest', cmap=plt.cm.Blues)\n",
    "    ax.figure.colorbar(im, ax=ax)\n",
    "    ax.set(xticks=np.arange(cm.shape[1]),\n",
    "           yticks=np.arange(cm.shape[0]),\n",
    "           xticklabels=classes, \n",
    "           yticklabels=classes,\n",
    "           title=\"SOFM\",\n",
    "           ylabel='True label',\n",
    "           xlabel='Predicted label')\n",
    "    \n",
    "    plt.setp(ax.get_xticklabels(), rotation=0, ha=\"right\", rotation_mode=\"anchor\");\n",
    "    plt.show()"
   ]
  },
  {
   "cell_type": "code",
   "execution_count": 646,
   "metadata": {},
   "outputs": [
    {
     "data": {
      "image/png": "[encoded data removed]",
      "text/plain": [
       "<Figure size 432x288 with 1 Axes>"
      ]
     },
     "metadata": {
      "needs_background": "light"
     },
     "output_type": "display_data"
    },
    {
     "data": {
      "image/png": "[encoded data removed]",
      "text/plain": [
       "<Figure size 432x288 with 1 Axes>"
      ]
     },
     "metadata": {
      "needs_background": "light"
     },
     "output_type": "display_data"
    },
    {
     "data": {
      "image/png": "[encoded data removed]",
      "text/plain": [
       "<Figure size 432x288 with 1 Axes>"
      ]
     },
     "metadata": {
      "needs_background": "light"
     },
     "output_type": "display_data"
    },
    {
     "data": {
      "image/png": "[encoded data removed]",
      "text/plain": [
       "<Figure size 432x288 with 1 Axes>"
      ]
     },
     "metadata": {
      "needs_background": "light"
     },
     "output_type": "display_data"
    },
    {
     "data": {
      "image/png": "[encoded data removed]",
      "text/plain": [
       "<Figure size 432x288 with 1 Axes>"
      ]
     },
     "metadata": {
      "needs_background": "light"
     },
     "output_type": "display_data"
    },
    {
     "data": {
      "image/png": "[encoded data removed]",
      "text/plain": [
       "<Figure size 432x288 with 1 Axes>"
      ]
     },
     "metadata": {
      "needs_background": "light"
     },
     "output_type": "display_data"
    },
    {
     "data": {
      "image/png": "[encoded data removed]",
      "text/plain": [
       "<Figure size 432x288 with 1 Axes>"
      ]
     },
     "metadata": {
      "needs_background": "light"
     },
     "output_type": "display_data"
    },
    {
     "data": {
      "image/png": "[encoded data removed]",
      "text/plain": [
       "<Figure size 432x288 with 1 Axes>"
      ]
     },
     "metadata": {
      "needs_background": "light"
     },
     "output_type": "display_data"
    },
    {
     "data": {
      "image/png": "[encoded data removed]",
      "text/plain": [
       "<Figure size 432x288 with 1 Axes>"
      ]
     },
     "metadata": {
      "needs_background": "light"
     },
     "output_type": "display_data"
    },
    {
     "data": {
      "image/png": "[encoded data removed]",
      "text/plain": [
       "<Figure size 432x288 with 1 Axes>"
      ]
     },
     "metadata": {
      "needs_background": "light"
     },
     "output_type": "display_data"
    },
    {
     "data": {
      "image/png": "[encoded data removed]",
      "text/plain": [
       "<Figure size 432x288 with 1 Axes>"
      ]
     },
     "metadata": {
      "needs_background": "light"
     },
     "output_type": "display_data"
    },
    {
     "data": {
      "image/png": "[encoded data removed]",
      "text/plain": [
       "<Figure size 432x288 with 1 Axes>"
      ]
     },
     "metadata": {
      "needs_background": "light"
     },
     "output_type": "display_data"
    },
    {
     "data": {
      "image/png": "[encoded data removed]",
      "text/plain": [
       "<Figure size 432x288 with 1 Axes>"
      ]
     },
     "metadata": {
      "needs_background": "light"
     },
     "output_type": "display_data"
    },
    {
     "data": {
      "image/png": "[encoded data removed]",
      "text/plain": [
       "<Figure size 432x288 with 1 Axes>"
      ]
     },
     "metadata": {
      "needs_background": "light"
     },
     "output_type": "display_data"
    },
    {
     "data": {
      "image/png": "[encoded data removed]",
      "text/plain": [
       "<Figure size 432x288 with 1 Axes>"
      ]
     },
     "metadata": {
      "needs_background": "light"
     },
     "output_type": "display_data"
    },
    {
     "data": {
      "image/png": "[encoded data removed]",
      "text/plain": [
       "<Figure size 432x288 with 1 Axes>"
      ]
     },
     "metadata": {
      "needs_background": "light"
     },
     "output_type": "display_data"
    },
    {
     "data": {
      "image/png": "[encoded data removed]",
      "text/plain": [
       "<Figure size 432x288 with 1 Axes>"
      ]
     },
     "metadata": {
      "needs_background": "light"
     },
     "output_type": "display_data"
    },
    {
     "data": {
      "image/png": "[encoded data removed]",
      "text/plain": [
       "<Figure size 432x288 with 1 Axes>"
      ]
     },
     "metadata": {
      "needs_background": "light"
     },
     "output_type": "display_data"
    },
    {
     "data": {
      "image/png": "[encoded data removed]",
      "text/plain": [
       "<Figure size 432x288 with 1 Axes>"
      ]
     },
     "metadata": {
      "needs_background": "light"
     },
     "output_type": "display_data"
    },
    {
     "data": {
      "image/png": "[encoded data removed]",
      "text/plain": [
       "<Figure size 432x288 with 1 Axes>"
      ]
     },
     "metadata": {
      "needs_background": "light"
     },
     "output_type": "display_data"
    },
    {
     "data": {
      "image/png": "[encoded data removed]",
      "text/plain": [
       "<Figure size 432x288 with 1 Axes>"
      ]
     },
     "metadata": {
      "needs_background": "light"
     },
     "output_type": "display_data"
    },
    {
     "data": {
      "image/png": "[encoded data removed]",
      "text/plain": [
       "<Figure size 432x288 with 1 Axes>"
      ]
     },
     "metadata": {
      "needs_background": "light"
     },
     "output_type": "display_data"
    },
    {
     "data": {
      "image/png": "[encoded data removed]",
      "text/plain": [
       "<Figure size 432x288 with 1 Axes>"
      ]
     },
     "metadata": {
      "needs_background": "light"
     },
     "output_type": "display_data"
    },
    {
     "data": {
      "image/png": "[encoded data removed]",
      "text/plain": [
       "<Figure size 432x288 with 1 Axes>"
      ]
     },
     "metadata": {
      "needs_background": "light"
     },
     "output_type": "display_data"
    },
    {
     "data": {
      "image/png": "[encoded data removed]",
      "text/plain": [
       "<Figure size 432x288 with 1 Axes>"
      ]
     },
     "metadata": {
      "needs_background": "light"
     },
     "output_type": "display_data"
    },
    {
     "data": {
      "image/png": "[encoded data removed]",
      "text/plain": [
       "<Figure size 432x288 with 1 Axes>"
      ]
     },
     "metadata": {
      "needs_background": "light"
     },
     "output_type": "display_data"
    },
    {
     "data": {
      "image/png": "[encoded data removed]",
      "text/plain": [
       "<Figure size 432x288 with 1 Axes>"
      ]
     },
     "metadata": {
      "needs_background": "light"
     },
     "output_type": "display_data"
    },
    {
     "data": {
      "image/png": "[encoded data removed]",
      "text/plain": [
       "<Figure size 432x288 with 1 Axes>"
      ]
     },
     "metadata": {
      "needs_background": "light"
     },
     "output_type": "display_data"
    },
    {
     "data": {
      "image/png": "[encoded data removed]",
      "text/plain": [
       "<Figure size 432x288 with 1 Axes>"
      ]
     },
     "metadata": {
      "needs_background": "light"
     },
     "output_type": "display_data"
    },
    {
     "data": {
      "image/png": "[encoded data removed]",
      "text/plain": [
       "<Figure size 432x288 with 1 Axes>"
      ]
     },
     "metadata": {
      "needs_background": "light"
     },
     "output_type": "display_data"
    },
    {
     "data": {
      "image/png": "[encoded data removed]",
      "text/plain": [
       "<Figure size 432x288 with 1 Axes>"
      ]
     },
     "metadata": {
      "needs_background": "light"
     },
     "output_type": "display_data"
    },
    {
     "data": {
      "image/png": "[encoded data removed]",
      "text/plain": [
       "<Figure size 432x288 with 1 Axes>"
      ]
     },
     "metadata": {
      "needs_background": "light"
     },
     "output_type": "display_data"
    },
    {
     "data": {
      "image/png": "[encoded data removed]",
      "text/plain": [
       "<Figure size 432x288 with 1 Axes>"
      ]
     },
     "metadata": {
      "needs_background": "light"
     },
     "output_type": "display_data"
    },
    {
     "data": {
      "image/png": "[encoded data removed]",
      "text/plain": [
       "<Figure size 432x288 with 1 Axes>"
      ]
     },
     "metadata": {
      "needs_background": "light"
     },
     "output_type": "display_data"
    },
    {
     "data": {
      "image/png": "[encoded data removed]",
      "text/plain": [
       "<Figure size 432x288 with 1 Axes>"
      ]
     },
     "metadata": {
      "needs_background": "light"
     },
     "output_type": "display_data"
    },
    {
     "data": {
      "image/png": "[encoded data removed]",
      "text/plain": [
       "<Figure size 432x288 with 1 Axes>"
      ]
     },
     "metadata": {
      "needs_background": "light"
     },
     "output_type": "display_data"
    },
    {
     "data": {
      "image/png": "[encoded data removed]",
      "text/plain": [
       "<Figure size 432x288 with 1 Axes>"
      ]
     },
     "metadata": {
      "needs_background": "light"
     },
     "output_type": "display_data"
    },
    {
     "data": {
      "image/png": "[encoded data removed]",
      "text/plain": [
       "<Figure size 432x288 with 1 Axes>"
      ]
     },
     "metadata": {
      "needs_background": "light"
     },
     "output_type": "display_data"
    },
    {
     "data": {
      "image/png": "[encoded data removed]",
      "text/plain": [
       "<Figure size 432x288 with 1 Axes>"
      ]
     },
     "metadata": {
      "needs_background": "light"
     },
     "output_type": "display_data"
    },
    {
     "data": {
      "image/png": "[encoded data removed]",
      "text/plain": [
       "<Figure size 432x288 with 1 Axes>"
      ]
     },
     "metadata": {
      "needs_background": "light"
     },
     "output_type": "display_data"
    },
    {
     "data": {
      "image/png": "[encoded data removed]",
      "text/plain": [
       "<Figure size 432x288 with 1 Axes>"
      ]
     },
     "metadata": {
      "needs_background": "light"
     },
     "output_type": "display_data"
    },
    {
     "data": {
      "image/png": "[encoded data removed]",
      "text/plain": [
       "<Figure size 432x288 with 1 Axes>"
      ]
     },
     "metadata": {
      "needs_background": "light"
     },
     "output_type": "display_data"
    },
    {
     "data": {
      "image/png": "[encoded data removed]",
      "text/plain": [
       "<Figure size 432x288 with 1 Axes>"
      ]
     },
     "metadata": {
      "needs_background": "light"
     },
     "output_type": "display_data"
    },
    {
     "data": {
      "image/png": "[encoded data removed]",
      "text/plain": [
       "<Figure size 432x288 with 1 Axes>"
      ]
     },
     "metadata": {
      "needs_background": "light"
     },
     "output_type": "display_data"
    },
    {
     "data": {
      "image/png": "[encoded data removed]",
      "text/plain": [
       "<Figure size 432x288 with 1 Axes>"
      ]
     },
     "metadata": {
      "needs_background": "light"
     },
     "output_type": "display_data"
    },
    {
     "data": {
      "image/png": "[encoded data removed]",
      "text/plain": [
       "<Figure size 432x288 with 1 Axes>"
      ]
     },
     "metadata": {
      "needs_background": "light"
     },
     "output_type": "display_data"
    },
    {
     "data": {
      "image/png": "[encoded data removed]",
      "text/plain": [
       "<Figure size 432x288 with 1 Axes>"
      ]
     },
     "metadata": {
      "needs_background": "light"
     },
     "output_type": "display_data"
    },
    {
     "data": {
      "image/png": "[encoded data removed]",
      "text/plain": [
       "<Figure size 432x288 with 1 Axes>"
      ]
     },
     "metadata": {
      "needs_background": "light"
     },
     "output_type": "display_data"
    },
    {
     "data": {
      "image/png": "[encoded data removed]",
      "text/plain": [
       "<Figure size 432x288 with 1 Axes>"
      ]
     },
     "metadata": {
      "needs_background": "light"
     },
     "output_type": "display_data"
    },
    {
     "data": {
      "image/png": "[encoded data removed]",
      "text/plain": [
       "<Figure size 432x288 with 1 Axes>"
      ]
     },
     "metadata": {
      "needs_background": "light"
     },
     "output_type": "display_data"
    },
    {
     "data": {
      "image/png": "[encoded data removed]",
      "text/plain": [
       "<Figure size 432x288 with 1 Axes>"
      ]
     },
     "metadata": {
      "needs_background": "light"
     },
     "output_type": "display_data"
    },
    {
     "data": {
      "image/png": "[encoded data removed]",
      "text/plain": [
       "<Figure size 432x288 with 1 Axes>"
      ]
     },
     "metadata": {
      "needs_background": "light"
     },
     "output_type": "display_data"
    },
    {
     "data": {
      "image/png": "[encoded data removed]",
      "text/plain": [
       "<Figure size 432x288 with 1 Axes>"
      ]
     },
     "metadata": {
      "needs_background": "light"
     },
     "output_type": "display_data"
    },
    {
     "data": {
      "image/png": "[encoded data removed]",
      "text/plain": [
       "<Figure size 432x288 with 1 Axes>"
      ]
     },
     "metadata": {
      "needs_background": "light"
     },
     "output_type": "display_data"
    },
    {
     "data": {
      "image/png": "[encoded data removed]",
      "text/plain": [
       "<Figure size 432x288 with 1 Axes>"
      ]
     },
     "metadata": {
      "needs_background": "light"
     },
     "output_type": "display_data"
    },
    {
     "data": {
      "image/png": "[encoded data removed]",
      "text/plain": [
       "<Figure size 432x288 with 1 Axes>"
      ]
     },
     "metadata": {
      "needs_background": "light"
     },
     "output_type": "display_data"
    },
    {
     "data": {
      "image/png": "[encoded data removed]",
      "text/plain": [
       "<Figure size 432x288 with 1 Axes>"
      ]
     },
     "metadata": {
      "needs_background": "light"
     },
     "output_type": "display_data"
    },
    {
     "data": {
      "image/png": "[encoded data removed]",
      "text/plain": [
       "<Figure size 432x288 with 1 Axes>"
      ]
     },
     "metadata": {
      "needs_background": "light"
     },
     "output_type": "display_data"
    },
    {
     "data": {
      "image/png": "[encoded data removed]",
      "text/plain": [
       "<Figure size 432x288 with 1 Axes>"
      ]
     },
     "metadata": {
      "needs_background": "light"
     },
     "output_type": "display_data"
    },
    {
     "data": {
      "image/png": "[encoded data removed]",
      "text/plain": [
       "<Figure size 432x288 with 1 Axes>"
      ]
     },
     "metadata": {
      "needs_background": "light"
     },
     "output_type": "display_data"
    },
    {
     "data": {
      "image/png": "[encoded data removed]",
      "text/plain": [
       "<Figure size 432x288 with 1 Axes>"
      ]
     },
     "metadata": {
      "needs_background": "light"
     },
     "output_type": "display_data"
    },
    {
     "data": {
      "image/png": "[encoded data removed]",
      "text/plain": [
       "<Figure size 432x288 with 1 Axes>"
      ]
     },
     "metadata": {
      "needs_background": "light"
     },
     "output_type": "display_data"
    },
    {
     "data": {
      "image/png": "[encoded data removed]",
      "text/plain": [
       "<Figure size 432x288 with 1 Axes>"
      ]
     },
     "metadata": {
      "needs_background": "light"
     },
     "output_type": "display_data"
    },
    {
     "data": {
      "image/png": "[encoded data removed]",
      "text/plain": [
       "<Figure size 432x288 with 1 Axes>"
      ]
     },
     "metadata": {
      "needs_background": "light"
     },
     "output_type": "display_data"
    },
    {
     "data": {
      "image/png": "[encoded data removed]",
      "text/plain": [
       "<Figure size 432x288 with 1 Axes>"
      ]
     },
     "metadata": {
      "needs_background": "light"
     },
     "output_type": "display_data"
    },
    {
     "data": {
      "image/png": "[encoded data removed]",
      "text/plain": [
       "<Figure size 432x288 with 1 Axes>"
      ]
     },
     "metadata": {
      "needs_background": "light"
     },
     "output_type": "display_data"
    },
    {
     "data": {
      "image/png": "[encoded data removed]",
      "text/plain": [
       "<Figure size 432x288 with 1 Axes>"
      ]
     },
     "metadata": {
      "needs_background": "light"
     },
     "output_type": "display_data"
    },
    {
     "data": {
      "image/png": "[encoded data removed]",
      "text/plain": [
       "<Figure size 432x288 with 1 Axes>"
      ]
     },
     "metadata": {
      "needs_background": "light"
     },
     "output_type": "display_data"
    },
    {
     "data": {
      "image/png": "[encoded data removed]",
      "text/plain": [
       "<Figure size 432x288 with 1 Axes>"
      ]
     },
     "metadata": {
      "needs_background": "light"
     },
     "output_type": "display_data"
    },
    {
     "data": {
      "image/png": "[encoded data removed]",
      "text/plain": [
       "<Figure size 432x288 with 1 Axes>"
      ]
     },
     "metadata": {
      "needs_background": "light"
     },
     "output_type": "display_data"
    },
    {
     "data": {
      "image/png": "[encoded data removed]",
      "text/plain": [
       "<Figure size 432x288 with 1 Axes>"
      ]
     },
     "metadata": {
      "needs_background": "light"
     },
     "output_type": "display_data"
    },
    {
     "data": {
      "image/png": "[encoded data removed]",
      "text/plain": [
       "<Figure size 432x288 with 1 Axes>"
      ]
     },
     "metadata": {
      "needs_background": "light"
     },
     "output_type": "display_data"
    },
    {
     "data": {
      "image/png": "[encoded data removed]",
      "text/plain": [
       "<Figure size 432x288 with 1 Axes>"
      ]
     },
     "metadata": {
      "needs_background": "light"
     },
     "output_type": "display_data"
    },
    {
     "data": {
      "image/png": "[encoded data removed]",
      "text/plain": [
       "<Figure size 432x288 with 1 Axes>"
      ]
     },
     "metadata": {
      "needs_background": "light"
     },
     "output_type": "display_data"
    },
    {
     "data": {
      "image/png": "[encoded data removed]",
      "text/plain": [
       "<Figure size 432x288 with 1 Axes>"
      ]
     },
     "metadata": {
      "needs_background": "light"
     },
     "output_type": "display_data"
    },
    {
     "data": {
      "image/png": "[encoded data removed]",
      "text/plain": [
       "<Figure size 432x288 with 1 Axes>"
      ]
     },
     "metadata": {
      "needs_background": "light"
     },
     "output_type": "display_data"
    },
    {
     "data": {
      "image/png": "[encoded data removed]",
      "text/plain": [
       "<Figure size 432x288 with 1 Axes>"
      ]
     },
     "metadata": {
      "needs_background": "light"
     },
     "output_type": "display_data"
    },
    {
     "data": {
      "image/png": "[encoded data removed]",
      "text/plain": [
       "<Figure size 432x288 with 1 Axes>"
      ]
     },
     "metadata": {
      "needs_background": "light"
     },
     "output_type": "display_data"
    },
    {
     "data": {
      "image/png": "[encoded data removed]",
      "text/plain": [
       "<Figure size 432x288 with 1 Axes>"
      ]
     },
     "metadata": {
      "needs_background": "light"
     },
     "output_type": "display_data"
    },
    {
     "data": {
      "image/png": "[encoded data removed]",
      "text/plain": [
       "<Figure size 432x288 with 1 Axes>"
      ]
     },
     "metadata": {
      "needs_background": "light"
     },
     "output_type": "display_data"
    },
    {
     "data": {
      "image/png": "[encoded data removed]",
      "text/plain": [
       "<Figure size 432x288 with 1 Axes>"
      ]
     },
     "metadata": {
      "needs_background": "light"
     },
     "output_type": "display_data"
    },
    {
     "data": {
      "image/png": "[encoded data removed]",
      "text/plain": [
       "<Figure size 432x288 with 1 Axes>"
      ]
     },
     "metadata": {
      "needs_background": "light"
     },
     "output_type": "display_data"
    },
    {
     "data": {
      "image/png": "[encoded data removed]",
      "text/plain": [
       "<Figure size 432x288 with 1 Axes>"
      ]
     },
     "metadata": {
      "needs_background": "light"
     },
     "output_type": "display_data"
    },
    {
     "data": {
      "image/png": "[encoded data removed]",
      "text/plain": [
       "<Figure size 432x288 with 1 Axes>"
      ]
     },
     "metadata": {
      "needs_background": "light"
     },
     "output_type": "display_data"
    },
    {
     "data": {
      "image/png": "[encoded data removed]",
      "text/plain": [
       "<Figure size 432x288 with 1 Axes>"
      ]
     },
     "metadata": {
      "needs_background": "light"
     },
     "output_type": "display_data"
    },
    {
     "data": {
      "image/png": "[encoded data removed]",
      "text/plain": [
       "<Figure size 432x288 with 1 Axes>"
      ]
     },
     "metadata": {
      "needs_background": "light"
     },
     "output_type": "display_data"
    },
    {
     "data": {
      "image/png": "[encoded data removed]",
      "text/plain": [
       "<Figure size 432x288 with 1 Axes>"
      ]
     },
     "metadata": {
      "needs_background": "light"
     },
     "output_type": "display_data"
    },
    {
     "data": {
      "image/png": "[encoded data removed]",
      "text/plain": [
       "<Figure size 432x288 with 1 Axes>"
      ]
     },
     "metadata": {
      "needs_background": "light"
     },
     "output_type": "display_data"
    },
    {
     "data": {
      "image/png": "[encoded data removed]",
      "text/plain": [
       "<Figure size 432x288 with 1 Axes>"
      ]
     },
     "metadata": {
      "needs_background": "light"
     },
     "output_type": "display_data"
    },
    {
     "data": {
      "image/png": "[encoded data removed]",
      "text/plain": [
       "<Figure size 432x288 with 1 Axes>"
      ]
     },
     "metadata": {
      "needs_background": "light"
     },
     "output_type": "display_data"
    },
    {
     "data": {
      "image/png": "[encoded data removed]",
      "text/plain": [
       "<Figure size 432x288 with 1 Axes>"
      ]
     },
     "metadata": {
      "needs_background": "light"
     },
     "output_type": "display_data"
    },
    {
     "data": {
      "image/png": "[encoded data removed]",
      "text/plain": [
       "<Figure size 432x288 with 1 Axes>"
      ]
     },
     "metadata": {
      "needs_background": "light"
     },
     "output_type": "display_data"
    },
    {
     "data": {
      "image/png": "[encoded data removed]",
      "text/plain": [
       "<Figure size 432x288 with 1 Axes>"
      ]
     },
     "metadata": {
      "needs_background": "light"
     },
     "output_type": "display_data"
    },
    {
     "data": {
      "image/png": "[encoded data removed]",
      "text/plain": [
       "<Figure size 432x288 with 1 Axes>"
      ]
     },
     "metadata": {
      "needs_background": "light"
     },
     "output_type": "display_data"
    },
    {
     "data": {
      "image/png": "[encoded data removed]",
      "text/plain": [
       "<Figure size 432x288 with 1 Axes>"
      ]
     },
     "metadata": {
      "needs_background": "light"
     },
     "output_type": "display_data"
    },
    {
     "data": {
      "image/png": "[encoded data removed]",
      "text/plain": [
       "<Figure size 432x288 with 1 Axes>"
      ]
     },
     "metadata": {
      "needs_background": "light"
     },
     "output_type": "display_data"
    },
    {
     "data": {
      "image/png": "[encoded data removed]",
      "text/plain": [
       "<Figure size 432x288 with 1 Axes>"
      ]
     },
     "metadata": {
      "needs_background": "light"
     },
     "output_type": "display_data"
    },
    {
     "data": {
      "image/png": "[encoded data removed]",
      "text/plain": [
       "<Figure size 432x288 with 1 Axes>"
      ]
     },
     "metadata": {
      "needs_background": "light"
     },
     "output_type": "display_data"
    },
    {
     "data": {
      "image/png": "[encoded data removed]",
      "text/plain": [
       "<Figure size 432x288 with 1 Axes>"
      ]
     },
     "metadata": {
      "needs_background": "light"
     },
     "output_type": "display_data"
    },
    {
     "data": {
      "image/png": "[encoded data removed]",
      "text/plain": [
       "<Figure size 432x288 with 1 Axes>"
      ]
     },
     "metadata": {
      "needs_background": "light"
     },
     "output_type": "display_data"
    }
   ],
   "source": [
    "images_prediction = list(zip(matrix_x_test_resized, predicted, y_test))\n",
    "images_prediction = images_prediction[0:100]\n",
    "grid_len = int(sqrt(len(images_prediction))) + 1\n",
    "for (image, prediction, real) in images_prediction:\n",
    "    plt.figure()\n",
    "    #plt.subplot(grid_len, grid_len, index + 1)\n",
    "    plt.axis('off')\n",
    "    plt.imshow(image, cmap=plt.cm.gray_r, interpolation='nearest')\n",
    "    plt.title('Predicted {} vs Real {}'.format((prediction + 9) % 10, real))\n",
    "    plt.show()\n",
    "\n",
    "#plt.show()"
   ]
  },
  {
   "cell_type": "code",
   "execution_count": null,
   "metadata": {},
   "outputs": [],
   "source": []
  }
 ],
 "metadata": {
  "kernelspec": {
   "display_name": "Python 3",
   "language": "python",
   "name": "python3"
  },
  "language_info": {
   "codemirror_mode": {
    "name": "ipython",
    "version": 3
   },
   "file_extension": ".py",
   "mimetype": "text/x-python",
   "name": "python",
   "nbconvert_exporter": "python",
   "pygments_lexer": "ipython3",
   "version": "3.7.2"
  }
 },
 "nbformat": 4,
 "nbformat_minor": 2
}
